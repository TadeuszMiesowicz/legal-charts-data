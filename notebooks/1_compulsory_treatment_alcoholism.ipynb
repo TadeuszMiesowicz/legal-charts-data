{
 "cells": [
  {
   "cell_type": "markdown",
   "metadata": {},
   "source": [
    "## Compulsory treatment of alcoholism 2000-2021\n",
    "\n",
    "### 1. topic description"
   ]
  },
  {
   "cell_type": "code",
   "execution_count": 1,
   "metadata": {},
   "outputs": [],
   "source": [
    "id = 1\n",
    "topicName = 'treatment-of-alcoholism-pl'\n",
    "title = \"\"\"\n",
    "list of cases of alcohol-dependent persons subjected to \n",
    "compulsory treatment under a court order (Alk list)\n",
    "\"\"\".replace('\\n',' ').strip()\n",
    "titlePl = \"\"\"\n",
    "wykaz spraw osób uzależnionych od alkoholu poddanych \n",
    "obowiązkowemu leczeniu na mocy orzeczenia sądu (wykaz Alk)\n",
    "\"\"\".replace('\\n',' ').strip()\n",
    "country = 'Poland'\n",
    "countryPl = 'Polska'\n",
    "startYear = 2000\n",
    "endYear = 2021\n",
    "description=\"\"\"\n",
    "The list of cases is maintained by the Polish Ministry of Justice. \n",
    "In addition, a visualization of data on average annual\n",
    "consumption of alcoholic beverages per capita \n",
    "per liter of 100% alcohol (Poland) has been included.\n",
    "Data on alcohol consumption is collected and published by the Polish \n",
    "State Agency for Solving Alcohol Problems.\n",
    "\"\"\".replace('\\n',' ').strip()\n",
    "descriptionPl=\"\"\"\n",
    "Wykaz spraw jest prowadzony przez polskie Ministerstwo Sprawiedliwości. \n",
    "Dodatkowo została umieszczona wizualizacja danych o średnim rocznym\n",
    "spożyciu napojów alkoholowych na jednego mieszkańca \n",
    "w przeliczeniu na jeden litr alkoholu 100% (Polska).\n",
    "Dane o spożyciu alkoholu są gromadzone i publikowane przez polską \n",
    "Państwową Agencję Rozwiązywania Problemów Alkoholowych.\n",
    "\"\"\".replace('\\n',' ').strip()\n",
    "sourceName = \"Ministry of Justice (PL)\"\n",
    "sourceNamePl =\"Ministerstwo Sprawiedliwości (PL)\"\n",
    "sourceLink=\"https://isws.ms.gov.pl/pl/baza-statystyczna/opracowania-wieloletnie/\"\n",
    "fileName= \"treatment-alcoholism-pl\"\n",
    "sourceFileExt = 'xlsx'\n"
   ]
  },
  {
   "cell_type": "code",
   "execution_count": null,
   "metadata": {},
   "outputs": [],
   "source": [
    "from src.database.insert_topic import insert_topic\n",
    "\n",
    "insert_topic(\n",
    "    id,\n",
    "    topicName,\n",
    "    title,\n",
    "    titlePl,\n",
    "    country,\n",
    "    countryPl,\n",
    "    startYear,\n",
    "    endYear,\n",
    "    description,\n",
    "    descriptionPl,\n",
    "    sourceName,\n",
    "    sourceNamePl,\n",
    "    sourceLink,\n",
    "    fileName,\n",
    "    sourceFileExt\n",
    ")"
   ]
  },
  {
   "cell_type": "code",
   "execution_count": 3,
   "metadata": {},
   "outputs": [],
   "source": [
    "from src.database.connect_db import connect_db\n",
    "\n",
    "db = connect_db()\n",
    "\n",
    "cursor = db.cursor()"
   ]
  },
  {
   "cell_type": "code",
   "execution_count": 4,
   "metadata": {},
   "outputs": [
    {
     "data": {
      "text/html": [
       "<div>\n",
       "<style scoped>\n",
       "    .dataframe tbody tr th:only-of-type {\n",
       "        vertical-align: middle;\n",
       "    }\n",
       "\n",
       "    .dataframe tbody tr th {\n",
       "        vertical-align: top;\n",
       "    }\n",
       "\n",
       "    .dataframe thead th {\n",
       "        text-align: right;\n",
       "    }\n",
       "</style>\n",
       "<table border=\"1\" class=\"dataframe\">\n",
       "  <thead>\n",
       "    <tr style=\"text-align: right;\">\n",
       "      <th></th>\n",
       "      <th>Unnamed: 0</th>\n",
       "      <th>Unnamed: 1</th>\n",
       "      <th>niestacjonarnym</th>\n",
       "      <th>stacjonarnym</th>\n",
       "      <th>zawodowego</th>\n",
       "      <th>społecznego</th>\n",
       "      <th>Unnamed: 6</th>\n",
       "    </tr>\n",
       "  </thead>\n",
       "  <tbody>\n",
       "    <tr>\n",
       "      <th>0</th>\n",
       "      <td>2000</td>\n",
       "      <td>35111</td>\n",
       "      <td>21837</td>\n",
       "      <td>13274</td>\n",
       "      <td>4734</td>\n",
       "      <td>7250</td>\n",
       "      <td>4808</td>\n",
       "    </tr>\n",
       "    <tr>\n",
       "      <th>1</th>\n",
       "      <td>2001</td>\n",
       "      <td>37632</td>\n",
       "      <td>22670</td>\n",
       "      <td>14962</td>\n",
       "      <td>4837</td>\n",
       "      <td>7786</td>\n",
       "      <td>5208</td>\n",
       "    </tr>\n",
       "    <tr>\n",
       "      <th>2</th>\n",
       "      <td>2002</td>\n",
       "      <td>35726</td>\n",
       "      <td>20895</td>\n",
       "      <td>14831</td>\n",
       "      <td>4467</td>\n",
       "      <td>7029</td>\n",
       "      <td>5389</td>\n",
       "    </tr>\n",
       "    <tr>\n",
       "      <th>3</th>\n",
       "      <td>2003</td>\n",
       "      <td>38101</td>\n",
       "      <td>22022</td>\n",
       "      <td>16079</td>\n",
       "      <td>5026</td>\n",
       "      <td>7736</td>\n",
       "      <td>6156</td>\n",
       "    </tr>\n",
       "    <tr>\n",
       "      <th>4</th>\n",
       "      <td>2004</td>\n",
       "      <td>43756</td>\n",
       "      <td>25191</td>\n",
       "      <td>18565</td>\n",
       "      <td>5687</td>\n",
       "      <td>10805</td>\n",
       "      <td>8084</td>\n",
       "    </tr>\n",
       "  </tbody>\n",
       "</table>\n",
       "</div>"
      ],
      "text/plain": [
       "   Unnamed: 0  Unnamed: 1  niestacjonarnym  stacjonarnym  zawodowego  \\\n",
       "0        2000       35111            21837         13274        4734   \n",
       "1        2001       37632            22670         14962        4837   \n",
       "2        2002       35726            20895         14831        4467   \n",
       "3        2003       38101            22022         16079        5026   \n",
       "4        2004       43756            25191         18565        5687   \n",
       "\n",
       "   społecznego  Unnamed: 6  \n",
       "0         7250        4808  \n",
       "1         7786        5208  \n",
       "2         7029        5389  \n",
       "3         7736        6156  \n",
       "4        10805        8084  "
      ]
     },
     "execution_count": 4,
     "metadata": {},
     "output_type": "execute_result"
    }
   ],
   "source": [
    "import pandas as pd\n",
    "\n",
    "original_data_path = '../data/raw/leczenie-alkoholowe-wykaz-alk-w-latach-2000-2021.xlsx'\n",
    "\n",
    "df = pd.read_excel(original_data_path, \n",
    "                   skiprows=8,\n",
    "                   skipfooter=4)\n",
    "\n",
    "df.head()"
   ]
  },
  {
   "cell_type": "code",
   "execution_count": 5,
   "metadata": {},
   "outputs": [
    {
     "data": {
      "text/html": [
       "<div>\n",
       "<style scoped>\n",
       "    .dataframe tbody tr th:only-of-type {\n",
       "        vertical-align: middle;\n",
       "    }\n",
       "\n",
       "    .dataframe tbody tr th {\n",
       "        vertical-align: top;\n",
       "    }\n",
       "\n",
       "    .dataframe thead th {\n",
       "        text-align: right;\n",
       "    }\n",
       "</style>\n",
       "<table border=\"1\" class=\"dataframe\">\n",
       "  <thead>\n",
       "    <tr style=\"text-align: right;\">\n",
       "      <th></th>\n",
       "      <th>Unnamed: 0</th>\n",
       "      <th>Unnamed: 1</th>\n",
       "      <th>niestacjonarnym</th>\n",
       "      <th>stacjonarnym</th>\n",
       "      <th>zawodowego</th>\n",
       "      <th>społecznego</th>\n",
       "      <th>Unnamed: 6</th>\n",
       "    </tr>\n",
       "  </thead>\n",
       "  <tbody>\n",
       "    <tr>\n",
       "      <th>17</th>\n",
       "      <td>2017</td>\n",
       "      <td>42859</td>\n",
       "      <td>24228</td>\n",
       "      <td>18631</td>\n",
       "      <td>8039</td>\n",
       "      <td>12289</td>\n",
       "      <td>12317</td>\n",
       "    </tr>\n",
       "    <tr>\n",
       "      <th>18</th>\n",
       "      <td>2018</td>\n",
       "      <td>40679</td>\n",
       "      <td>22801</td>\n",
       "      <td>17878</td>\n",
       "      <td>7707</td>\n",
       "      <td>12326</td>\n",
       "      <td>11630</td>\n",
       "    </tr>\n",
       "    <tr>\n",
       "      <th>19</th>\n",
       "      <td>2019</td>\n",
       "      <td>39560</td>\n",
       "      <td>22124</td>\n",
       "      <td>17436</td>\n",
       "      <td>7909</td>\n",
       "      <td>11641</td>\n",
       "      <td>11292</td>\n",
       "    </tr>\n",
       "    <tr>\n",
       "      <th>20</th>\n",
       "      <td>2020</td>\n",
       "      <td>33177</td>\n",
       "      <td>18761</td>\n",
       "      <td>14416</td>\n",
       "      <td>6824</td>\n",
       "      <td>9227</td>\n",
       "      <td>9606</td>\n",
       "    </tr>\n",
       "    <tr>\n",
       "      <th>21</th>\n",
       "      <td>2021</td>\n",
       "      <td>29723</td>\n",
       "      <td>16995</td>\n",
       "      <td>12728</td>\n",
       "      <td>7005</td>\n",
       "      <td>8053</td>\n",
       "      <td>8394</td>\n",
       "    </tr>\n",
       "  </tbody>\n",
       "</table>\n",
       "</div>"
      ],
      "text/plain": [
       "    Unnamed: 0  Unnamed: 1  niestacjonarnym  stacjonarnym  zawodowego  \\\n",
       "17        2017       42859            24228         18631        8039   \n",
       "18        2018       40679            22801         17878        7707   \n",
       "19        2019       39560            22124         17436        7909   \n",
       "20        2020       33177            18761         14416        6824   \n",
       "21        2021       29723            16995         12728        7005   \n",
       "\n",
       "    społecznego  Unnamed: 6  \n",
       "17        12289       12317  \n",
       "18        12326       11630  \n",
       "19        11641       11292  \n",
       "20         9227        9606  \n",
       "21         8053        8394  "
      ]
     },
     "execution_count": 5,
     "metadata": {},
     "output_type": "execute_result"
    }
   ],
   "source": [
    "df.tail()"
   ]
  },
  {
   "cell_type": "markdown",
   "metadata": {},
   "source": [
    "Column with index 1 is deleted as it contains sum of columns with indexes 2 and 3 - data duplication"
   ]
  },
  {
   "cell_type": "code",
   "execution_count": 6,
   "metadata": {},
   "outputs": [],
   "source": [
    "df.drop(df.columns[1], axis=1, inplace=True)"
   ]
  },
  {
   "cell_type": "code",
   "execution_count": 7,
   "metadata": {},
   "outputs": [
    {
     "data": {
      "text/html": [
       "<div>\n",
       "<style scoped>\n",
       "    .dataframe tbody tr th:only-of-type {\n",
       "        vertical-align: middle;\n",
       "    }\n",
       "\n",
       "    .dataframe tbody tr th {\n",
       "        vertical-align: top;\n",
       "    }\n",
       "\n",
       "    .dataframe thead th {\n",
       "        text-align: right;\n",
       "    }\n",
       "</style>\n",
       "<table border=\"1\" class=\"dataframe\">\n",
       "  <thead>\n",
       "    <tr style=\"text-align: right;\">\n",
       "      <th></th>\n",
       "      <th>Unnamed: 0</th>\n",
       "      <th>niestacjonarnym</th>\n",
       "      <th>stacjonarnym</th>\n",
       "      <th>zawodowego</th>\n",
       "      <th>społecznego</th>\n",
       "      <th>Unnamed: 6</th>\n",
       "    </tr>\n",
       "  </thead>\n",
       "  <tbody>\n",
       "    <tr>\n",
       "      <th>0</th>\n",
       "      <td>2000</td>\n",
       "      <td>21837</td>\n",
       "      <td>13274</td>\n",
       "      <td>4734</td>\n",
       "      <td>7250</td>\n",
       "      <td>4808</td>\n",
       "    </tr>\n",
       "    <tr>\n",
       "      <th>1</th>\n",
       "      <td>2001</td>\n",
       "      <td>22670</td>\n",
       "      <td>14962</td>\n",
       "      <td>4837</td>\n",
       "      <td>7786</td>\n",
       "      <td>5208</td>\n",
       "    </tr>\n",
       "    <tr>\n",
       "      <th>2</th>\n",
       "      <td>2002</td>\n",
       "      <td>20895</td>\n",
       "      <td>14831</td>\n",
       "      <td>4467</td>\n",
       "      <td>7029</td>\n",
       "      <td>5389</td>\n",
       "    </tr>\n",
       "    <tr>\n",
       "      <th>3</th>\n",
       "      <td>2003</td>\n",
       "      <td>22022</td>\n",
       "      <td>16079</td>\n",
       "      <td>5026</td>\n",
       "      <td>7736</td>\n",
       "      <td>6156</td>\n",
       "    </tr>\n",
       "    <tr>\n",
       "      <th>4</th>\n",
       "      <td>2004</td>\n",
       "      <td>25191</td>\n",
       "      <td>18565</td>\n",
       "      <td>5687</td>\n",
       "      <td>10805</td>\n",
       "      <td>8084</td>\n",
       "    </tr>\n",
       "  </tbody>\n",
       "</table>\n",
       "</div>"
      ],
      "text/plain": [
       "   Unnamed: 0  niestacjonarnym  stacjonarnym  zawodowego  społecznego  \\\n",
       "0        2000            21837         13274        4734         7250   \n",
       "1        2001            22670         14962        4837         7786   \n",
       "2        2002            20895         14831        4467         7029   \n",
       "3        2003            22022         16079        5026         7736   \n",
       "4        2004            25191         18565        5687        10805   \n",
       "\n",
       "   Unnamed: 6  \n",
       "0        4808  \n",
       "1        5208  \n",
       "2        5389  \n",
       "3        6156  \n",
       "4        8084  "
      ]
     },
     "execution_count": 7,
     "metadata": {},
     "output_type": "execute_result"
    }
   ],
   "source": [
    "df.head()"
   ]
  },
  {
   "cell_type": "markdown",
   "metadata": {},
   "source": [
    "### 2. Columns names & descriptions"
   ]
  },
  {
   "cell_type": "code",
   "execution_count": 8,
   "metadata": {},
   "outputs": [],
   "source": [
    "column_names_descriptions = {\n",
    "    0: ('year', \n",
    "        'year', \n",
    "        'rok'),\n",
    "    1: ('closeNonStationary', \n",
    "        'ongoing treatment - non-stationary', \n",
    "        'trwające leczenie - zakład niestacjonarny'),\n",
    "    2: ('closeStationary', \n",
    "        'facility ongoing treatment - closed facility', \n",
    "        'trwające leczenie - zakład stacjonarny'),\n",
    "    3: ('professionalGuardianship', \n",
    "        'under professional guardianship', \n",
    "        'objęci kuratelą zawodową'),\n",
    "    4: ('communityGuardianship', \n",
    "        'under social guardianship', \n",
    "        'objęci kuratelą społeczną'),\n",
    "    5: ('closeStationaryAwaiting', \n",
    "        'awaiting treatment in closed facility', \n",
    "        'oczekujący na umieszczenie w zakładzie stacjonarnym')\n",
    "}\n",
    "\n",
    "new_column_names = [t[0] for t in column_names_descriptions.values()]\n"
   ]
  },
  {
   "cell_type": "code",
   "execution_count": 9,
   "metadata": {},
   "outputs": [
    {
     "data": {
      "text/html": [
       "<div>\n",
       "<style scoped>\n",
       "    .dataframe tbody tr th:only-of-type {\n",
       "        vertical-align: middle;\n",
       "    }\n",
       "\n",
       "    .dataframe tbody tr th {\n",
       "        vertical-align: top;\n",
       "    }\n",
       "\n",
       "    .dataframe thead th {\n",
       "        text-align: right;\n",
       "    }\n",
       "</style>\n",
       "<table border=\"1\" class=\"dataframe\">\n",
       "  <thead>\n",
       "    <tr style=\"text-align: right;\">\n",
       "      <th></th>\n",
       "      <th>year</th>\n",
       "      <th>closeNonStationary</th>\n",
       "      <th>closeStationary</th>\n",
       "      <th>professionalGuardianship</th>\n",
       "      <th>communityGuardianship</th>\n",
       "      <th>closeStationaryAwaiting</th>\n",
       "    </tr>\n",
       "  </thead>\n",
       "  <tbody>\n",
       "    <tr>\n",
       "      <th>0</th>\n",
       "      <td>2000</td>\n",
       "      <td>21837</td>\n",
       "      <td>13274</td>\n",
       "      <td>4734</td>\n",
       "      <td>7250</td>\n",
       "      <td>4808</td>\n",
       "    </tr>\n",
       "    <tr>\n",
       "      <th>1</th>\n",
       "      <td>2001</td>\n",
       "      <td>22670</td>\n",
       "      <td>14962</td>\n",
       "      <td>4837</td>\n",
       "      <td>7786</td>\n",
       "      <td>5208</td>\n",
       "    </tr>\n",
       "    <tr>\n",
       "      <th>2</th>\n",
       "      <td>2002</td>\n",
       "      <td>20895</td>\n",
       "      <td>14831</td>\n",
       "      <td>4467</td>\n",
       "      <td>7029</td>\n",
       "      <td>5389</td>\n",
       "    </tr>\n",
       "    <tr>\n",
       "      <th>3</th>\n",
       "      <td>2003</td>\n",
       "      <td>22022</td>\n",
       "      <td>16079</td>\n",
       "      <td>5026</td>\n",
       "      <td>7736</td>\n",
       "      <td>6156</td>\n",
       "    </tr>\n",
       "    <tr>\n",
       "      <th>4</th>\n",
       "      <td>2004</td>\n",
       "      <td>25191</td>\n",
       "      <td>18565</td>\n",
       "      <td>5687</td>\n",
       "      <td>10805</td>\n",
       "      <td>8084</td>\n",
       "    </tr>\n",
       "  </tbody>\n",
       "</table>\n",
       "</div>"
      ],
      "text/plain": [
       "   year  closeNonStationary  closeStationary  professionalGuardianship  \\\n",
       "0  2000               21837            13274                      4734   \n",
       "1  2001               22670            14962                      4837   \n",
       "2  2002               20895            14831                      4467   \n",
       "3  2003               22022            16079                      5026   \n",
       "4  2004               25191            18565                      5687   \n",
       "\n",
       "   communityGuardianship  closeStationaryAwaiting  \n",
       "0                   7250                     4808  \n",
       "1                   7786                     5208  \n",
       "2                   7029                     5389  \n",
       "3                   7736                     6156  \n",
       "4                  10805                     8084  "
      ]
     },
     "execution_count": 9,
     "metadata": {},
     "output_type": "execute_result"
    }
   ],
   "source": [
    "df = df.set_axis(new_column_names, axis=1)\n",
    "\n",
    "df.head()"
   ]
  },
  {
   "cell_type": "markdown",
   "metadata": {},
   "source": [
    "### 3. create db tables"
   ]
  },
  {
   "cell_type": "code",
   "execution_count": 10,
   "metadata": {},
   "outputs": [],
   "source": [
    "MAIN_TABLE_NAME = 'alcoholismTreatmentPl'"
   ]
  },
  {
   "cell_type": "code",
   "execution_count": 11,
   "metadata": {},
   "outputs": [],
   "source": [
    "query = f\"CREATE TABLE {MAIN_TABLE_NAME} (year INT PRIMARY KEY, \"\n",
    "\n",
    "for column in df.columns[1:]:\n",
    "    query += f\"{column} INT NOT NULL, \"\n",
    "\n",
    "\n",
    "query = query[:-2] + \")\""
   ]
  },
  {
   "cell_type": "code",
   "execution_count": 12,
   "metadata": {},
   "outputs": [],
   "source": [
    "try:\n",
    "    cursor.execute(query)\n",
    "except:\n",
    "    print('table already created')"
   ]
  },
  {
   "cell_type": "code",
   "execution_count": 13,
   "metadata": {},
   "outputs": [
    {
     "data": {
      "text/plain": [
       "year                        int64\n",
       "closeNonStationary          int64\n",
       "closeStationary             int64\n",
       "professionalGuardianship    int64\n",
       "communityGuardianship       int64\n",
       "closeStationaryAwaiting     int64\n",
       "dtype: object"
      ]
     },
     "execution_count": 13,
     "metadata": {},
     "output_type": "execute_result"
    }
   ],
   "source": [
    "df.dtypes"
   ]
  },
  {
   "cell_type": "code",
   "execution_count": 14,
   "metadata": {},
   "outputs": [],
   "source": [
    "data = [tuple(row) for index, row in df.iterrows()]"
   ]
  },
  {
   "cell_type": "code",
   "execution_count": 15,
   "metadata": {},
   "outputs": [],
   "source": [
    "query = f\"\"\"\n",
    "INSERT INTO {MAIN_TABLE_NAME} ({', '.join(df.columns)}) \n",
    "VALUES ({', '.join(['%s']*len(df.columns))});\n",
    "\"\"\"\n",
    "\n",
    "try:\n",
    "    cursor.executemany(query, data)\n",
    "except:\n",
    "    print('data added already')"
   ]
  },
  {
   "cell_type": "code",
   "execution_count": 16,
   "metadata": {},
   "outputs": [
    {
     "data": {
      "text/plain": [
       "((2000, 21837, 13274, 4734, 7250, 4808),\n",
       " (2001, 22670, 14962, 4837, 7786, 5208),\n",
       " (2002, 20895, 14831, 4467, 7029, 5389),\n",
       " (2003, 22022, 16079, 5026, 7736, 6156),\n",
       " (2004, 25191, 18565, 5687, 10805, 8084))"
      ]
     },
     "execution_count": 16,
     "metadata": {},
     "output_type": "execute_result"
    }
   ],
   "source": [
    "cursor.execute(f\"\"\"\n",
    "               SELECT * \n",
    "               FROM {MAIN_TABLE_NAME}\n",
    "               LIMIT 5\n",
    "               \"\"\")\n",
    "cursor.fetchall()\n"
   ]
  },
  {
   "cell_type": "code",
   "execution_count": 17,
   "metadata": {},
   "outputs": [],
   "source": [
    "from src.database.create_ds_desc_table import create_ds_desc_table\n",
    "\n",
    "\n",
    "create_ds_desc_table(MAIN_TABLE_NAME)"
   ]
  },
  {
   "cell_type": "code",
   "execution_count": 18,
   "metadata": {},
   "outputs": [],
   "source": [
    "data = [row for row in column_names_descriptions.values()]"
   ]
  },
  {
   "cell_type": "code",
   "execution_count": 19,
   "metadata": {},
   "outputs": [],
   "source": [
    "from src.database.insert_into_ds_desc import insert_into_ds_desc\n",
    "\n",
    "\n",
    "insert_into_ds_desc(MAIN_TABLE_NAME, data)"
   ]
  },
  {
   "cell_type": "markdown",
   "metadata": {},
   "source": [
    "### 4. upload files to GCP storage"
   ]
  },
  {
   "cell_type": "code",
   "execution_count": 20,
   "metadata": {},
   "outputs": [],
   "source": [
    "df_desc = pd.DataFrame(data, \n",
    "    columns=['column_name', \n",
    "    'description', \n",
    "    'descriptionPl'])"
   ]
  },
  {
   "cell_type": "code",
   "execution_count": 21,
   "metadata": {},
   "outputs": [],
   "source": [
    "df_path = f'../data/processed/{topicName}/{fileName}.csv'\n",
    "df_path_desc =f'../data/processed/{topicName}/{fileName}-desc.csv'"
   ]
  },
  {
   "cell_type": "code",
   "execution_count": 22,
   "metadata": {},
   "outputs": [],
   "source": [
    "df.to_csv(df_path, index=False)\n",
    "df_desc.to_csv(df_path_desc, index=False)"
   ]
  },
  {
   "cell_type": "code",
   "execution_count": 23,
   "metadata": {},
   "outputs": [],
   "source": [
    "destination = f\"{topicName}/{fileName}.csv\"\n",
    "destination_desc = f\"{topicName}/{fileName}-desc.csv\"\n",
    "destination_original = f\"{topicName}/{fileName}-source.{sourceFileExt}\""
   ]
  },
  {
   "cell_type": "code",
   "execution_count": 24,
   "metadata": {},
   "outputs": [
    {
     "name": "stdout",
     "output_type": "stream",
     "text": [
      "File ../data/processed/treatment-of-alcoholism-pl/treatment-alcoholism-pl.csv uploaded to legal-charts-datasets/treatment-of-alcoholism-pl/treatment-alcoholism-pl.csv.\n",
      "File ../data/processed/treatment-of-alcoholism-pl/treatment-alcoholism-pl.csv uploaded to legal-charts-datasets/treatment-of-alcoholism-pl/treatment-alcoholism-pl-desc.csv.\n",
      "File ../data/raw/leczenie-alkoholowe-wykaz-alk-w-latach-2000-2021.xlsx uploaded to legal-charts-datasets/treatment-of-alcoholism-pl/treatment-alcoholism-pl-source.xlsx.\n"
     ]
    }
   ],
   "source": [
    "from src.utils.upload_file_gpc import upload_file\n",
    "\n",
    "upload_file(df_path,destination)\n",
    "upload_file(df_path,destination_desc)\n",
    "upload_file(original_data_path,destination_original)"
   ]
  },
  {
   "cell_type": "markdown",
   "metadata": {},
   "source": [
    "### 5. data intro"
   ]
  },
  {
   "cell_type": "code",
   "execution_count": 25,
   "metadata": {},
   "outputs": [
    {
     "name": "stdout",
     "output_type": "stream",
     "text": [
      "closeNonStationary\n",
      "closeStationary\n",
      "professionalGuardianship\n",
      "communityGuardianship\n",
      "closeStationaryAwaiting\n"
     ]
    },
    {
     "data": {
      "image/png": "[encoded data removed]",
      "text/plain": [
       "<Figure size 1000x600 with 1 Axes>"
      ]
     },
     "metadata": {},
     "output_type": "display_data"
    }
   ],
   "source": [
    "import seaborn as sns\n",
    "import matplotlib.pyplot as plt\n",
    "from src.utils.sns_pallete import palette\n",
    "\n",
    "plt.figure(figsize=(10, 6))\n",
    "\n",
    "sns.set_palette(palette)\n",
    "\n",
    "for y in df.columns[1:]:\n",
    "    print(y)\n",
    "    sns.lineplot(data=df, x='year', y=y)\n",
    "\n",
    "plt.xlabel('year')\n",
    "plt.ylabel('amount')\n",
    "plt.grid(True)\n",
    "plt.show()\n"
   ]
  },
  {
   "cell_type": "code",
   "execution_count": 26,
   "metadata": {},
   "outputs": [],
   "source": [
    "db.close()"
   ]
  }
 ],
 "metadata": {
  "kernelspec": {
   "display_name": "ai-krs",
   "language": "python",
   "name": "python3"
  },
  "language_info": {
   "codemirror_mode": {
    "name": "ipython",
    "version": 3
   },
   "file_extension": ".py",
   "mimetype": "text/x-python",
   "name": "python",
   "nbconvert_exporter": "python",
   "pygments_lexer": "ipython3",
   "version": "3.10.12"
  },
  "orig_nbformat": 4
 },
 "nbformat": 4,
 "nbformat_minor": 2
}
