{
 "cells": [
  {
   "cell_type": "markdown",
   "metadata": {},
   "source": [
    "## Drunk driving offense and its traffic consequences vs. alcohol consumption in Poland 2001-2021\n",
    "\n",
    "### 1. topic description"
   ]
  },
  {
   "cell_type": "code",
   "execution_count": 3,
   "metadata": {},
   "outputs": [],
   "source": [
    "id = 2\n",
    "topicName = 'driving-under-influence-pl'\n",
    "title = \"\"\"\n",
    "Drunk driving offense and its traffic consequences vs. alcohol consumption in Poland.\n",
    "\"\"\".replace('\\n',' ').strip()\n",
    "titlePl = \"\"\"\n",
    "Przestępstwo jazdy pod wpływem alkoholu i jego skutki drogowe a spożycie alkoholu w Polsce.\n",
    "\"\"\".replace('\\n',' ').strip()\n",
    "country = 'Poland'\n",
    "countryPl = 'Polska'\n",
    "startYear = 2001\n",
    "endYear = 2021\n",
    "description=\"\"\"\n",
    "Statistics of the crime of driving under the influence of alcohol a\n",
    "nd the consequences of traffic incidents committed under the influence of alcohol (Poland).\n",
    "Data published by the Polish Police Headquarters.\n",
    "In addition, a data visualization of the average annual\n",
    "consumption of alcoholic beverages per capita \n",
    "per liter of 100% alcohol (Poland).\n",
    "Data on alcohol consumption is collected and published by the Polish \n",
    "State Agency for Solving Alcohol Problems.\n",
    "\"\"\".replace('\\n',' ').strip()\n",
    "descriptionPl=\"\"\"\n",
    "Statystyki przestępstwa jazdy pod wpływem alkoholu \n",
    "i skutki zdarzeń drogowych dokonanych pod wpływem alkoholu (Polska). \n",
    "Dane publikowane przez polską Komendę Główną Policji.\n",
    "Dodatkowo została umieszczona wizualizacja danych o średnim rocznym\n",
    "spożyciu napojów alkoholowych na jednego mieszkańca \n",
    "w przeliczeniu na jeden litr alkoholu 100% (Polska).\n",
    "Dane o spożyciu alkoholu są gromadzone i publikowane przez polską \n",
    "Państwową Agencję Rozwiązywania Problemów Alkoholowych.\n",
    "\"\"\".replace('\\n',' ').strip()\n",
    "sourceName = \"Komenda Główna Policji\"\n",
    "sourceNamePl =\" Police Headquarters (PL)\"\n",
    "sourceLink=\"https://dane.gov.pl/pl/dataset/2737\"\n",
    "fileName= \"dui-pl\"\n",
    "sourceFileExt = 'csv'\n"
   ]
  },
  {
   "cell_type": "code",
   "execution_count": null,
   "metadata": {},
   "outputs": [],
   "source": [
    "from src.database.insert_topic import insert_topic\n",
    "\n",
    "insert_topic(\n",
    "    id,\n",
    "    topicName,\n",
    "    title,\n",
    "    titlePl,\n",
    "    country,\n",
    "    countryPl,\n",
    "    startYear,\n",
    "    endYear,\n",
    "    description,\n",
    "    descriptionPl,\n",
    "    sourceName,\n",
    "    sourceNamePl,\n",
    "    sourceLink,\n",
    "    fileName,\n",
    "    sourceFileExt\n",
    ")"
   ]
  },
  {
   "cell_type": "markdown",
   "metadata": {},
   "source": [
    "### 2. data exploration"
   ]
  },
  {
   "cell_type": "markdown",
   "metadata": {},
   "source": [
    "- only second third column is needed\n",
    "- only first 21 rows are useful"
   ]
  },
  {
   "cell_type": "code",
   "execution_count": 5,
   "metadata": {},
   "outputs": [
    {
     "data": {
      "text/html": [
       "<div>\n",
       "<style scoped>\n",
       "    .dataframe tbody tr th:only-of-type {\n",
       "        vertical-align: middle;\n",
       "    }\n",
       "\n",
       "    .dataframe tbody tr th {\n",
       "        vertical-align: top;\n",
       "    }\n",
       "\n",
       "    .dataframe thead th {\n",
       "        text-align: right;\n",
       "    }\n",
       "</style>\n",
       "<table border=\"1\" class=\"dataframe\">\n",
       "  <thead>\n",
       "    <tr style=\"text-align: right;\">\n",
       "      <th></th>\n",
       "      <th>Jednostka podzia³u administracyjnego</th>\n",
       "      <th>Rok</th>\n",
       "      <th>Przestêpstwa stwierdzone</th>\n",
       "      <th>Przestêpstwa wykryte</th>\n",
       "      <th>% wykrycia</th>\n",
       "      <th>Unnamed: 5</th>\n",
       "    </tr>\n",
       "  </thead>\n",
       "  <tbody>\n",
       "    <tr>\n",
       "      <th>0</th>\n",
       "      <td>Polska</td>\n",
       "      <td>2021.0</td>\n",
       "      <td>58 085</td>\n",
       "      <td>58 054</td>\n",
       "      <td>99,9</td>\n",
       "      <td>NaN</td>\n",
       "    </tr>\n",
       "    <tr>\n",
       "      <th>1</th>\n",
       "      <td>Polska</td>\n",
       "      <td>2020.0</td>\n",
       "      <td>52 907</td>\n",
       "      <td>52 861</td>\n",
       "      <td>99,9</td>\n",
       "      <td>NaN</td>\n",
       "    </tr>\n",
       "    <tr>\n",
       "      <th>2</th>\n",
       "      <td>Polska</td>\n",
       "      <td>2019.0</td>\n",
       "      <td>56 207</td>\n",
       "      <td>56 158</td>\n",
       "      <td>99,9</td>\n",
       "      <td>NaN</td>\n",
       "    </tr>\n",
       "    <tr>\n",
       "      <th>3</th>\n",
       "      <td>Polska</td>\n",
       "      <td>2018.0</td>\n",
       "      <td>51 499</td>\n",
       "      <td>51 464</td>\n",
       "      <td>99,9</td>\n",
       "      <td>NaN</td>\n",
       "    </tr>\n",
       "    <tr>\n",
       "      <th>4</th>\n",
       "      <td>Polska</td>\n",
       "      <td>2017.0</td>\n",
       "      <td>55 170</td>\n",
       "      <td>55 089</td>\n",
       "      <td>99,8</td>\n",
       "      <td>NaN</td>\n",
       "    </tr>\n",
       "    <tr>\n",
       "      <th>5</th>\n",
       "      <td>Polska</td>\n",
       "      <td>2016.0</td>\n",
       "      <td>60 443</td>\n",
       "      <td>60 333</td>\n",
       "      <td>99,8</td>\n",
       "      <td>NaN</td>\n",
       "    </tr>\n",
       "    <tr>\n",
       "      <th>6</th>\n",
       "      <td>Polska</td>\n",
       "      <td>2015.0</td>\n",
       "      <td>64 336</td>\n",
       "      <td>64 192</td>\n",
       "      <td>99,8</td>\n",
       "      <td>NaN</td>\n",
       "    </tr>\n",
       "    <tr>\n",
       "      <th>7</th>\n",
       "      <td>Polska</td>\n",
       "      <td>2014.0</td>\n",
       "      <td>73 920</td>\n",
       "      <td>73 787</td>\n",
       "      <td>99,8</td>\n",
       "      <td>NaN</td>\n",
       "    </tr>\n",
       "    <tr>\n",
       "      <th>8</th>\n",
       "      <td>Polska</td>\n",
       "      <td>2013.0</td>\n",
       "      <td>128 064</td>\n",
       "      <td>127 908</td>\n",
       "      <td>99,9</td>\n",
       "      <td>NaN</td>\n",
       "    </tr>\n",
       "    <tr>\n",
       "      <th>9</th>\n",
       "      <td>Polska</td>\n",
       "      <td>2012.0</td>\n",
       "      <td>141 863</td>\n",
       "      <td>141 958</td>\n",
       "      <td>100,0</td>\n",
       "      <td>NaN</td>\n",
       "    </tr>\n",
       "    <tr>\n",
       "      <th>10</th>\n",
       "      <td>Polska</td>\n",
       "      <td>2011.0</td>\n",
       "      <td>150 763</td>\n",
       "      <td>150 806</td>\n",
       "      <td>100,0</td>\n",
       "      <td>NaN</td>\n",
       "    </tr>\n",
       "    <tr>\n",
       "      <th>11</th>\n",
       "      <td>Polska</td>\n",
       "      <td>2010.0</td>\n",
       "      <td>142 144</td>\n",
       "      <td>142 183</td>\n",
       "      <td>100,0</td>\n",
       "      <td>NaN</td>\n",
       "    </tr>\n",
       "    <tr>\n",
       "      <th>12</th>\n",
       "      <td>Polska</td>\n",
       "      <td>2009.0</td>\n",
       "      <td>151 762</td>\n",
       "      <td>151 808</td>\n",
       "      <td>100,0</td>\n",
       "      <td>NaN</td>\n",
       "    </tr>\n",
       "    <tr>\n",
       "      <th>13</th>\n",
       "      <td>Polska</td>\n",
       "      <td>2008.0</td>\n",
       "      <td>150 074</td>\n",
       "      <td>150 101</td>\n",
       "      <td>100,0</td>\n",
       "      <td>NaN</td>\n",
       "    </tr>\n",
       "    <tr>\n",
       "      <th>14</th>\n",
       "      <td>Polska</td>\n",
       "      <td>2007.0</td>\n",
       "      <td>150 382</td>\n",
       "      <td>150 435</td>\n",
       "      <td>100,0</td>\n",
       "      <td>NaN</td>\n",
       "    </tr>\n",
       "    <tr>\n",
       "      <th>15</th>\n",
       "      <td>Polska</td>\n",
       "      <td>2006.0</td>\n",
       "      <td>180 955</td>\n",
       "      <td>181 012</td>\n",
       "      <td>100,0</td>\n",
       "      <td>NaN</td>\n",
       "    </tr>\n",
       "    <tr>\n",
       "      <th>16</th>\n",
       "      <td>Polska</td>\n",
       "      <td>2005.0</td>\n",
       "      <td>178 571</td>\n",
       "      <td>178 597</td>\n",
       "      <td>100,0</td>\n",
       "      <td>NaN</td>\n",
       "    </tr>\n",
       "    <tr>\n",
       "      <th>17</th>\n",
       "      <td>Polska</td>\n",
       "      <td>2004.0</td>\n",
       "      <td>158 543</td>\n",
       "      <td>158 533</td>\n",
       "      <td>100,0</td>\n",
       "      <td>NaN</td>\n",
       "    </tr>\n",
       "    <tr>\n",
       "      <th>18</th>\n",
       "      <td>Polska</td>\n",
       "      <td>2003.0</td>\n",
       "      <td>150 901</td>\n",
       "      <td>150 882</td>\n",
       "      <td>100,0</td>\n",
       "      <td>NaN</td>\n",
       "    </tr>\n",
       "    <tr>\n",
       "      <th>19</th>\n",
       "      <td>Polska</td>\n",
       "      <td>2002.0</td>\n",
       "      <td>144 412</td>\n",
       "      <td>144 375</td>\n",
       "      <td>100,0</td>\n",
       "      <td>NaN</td>\n",
       "    </tr>\n",
       "    <tr>\n",
       "      <th>20</th>\n",
       "      <td>Polska</td>\n",
       "      <td>2001.0</td>\n",
       "      <td>120 113</td>\n",
       "      <td>120 042</td>\n",
       "      <td>99,9</td>\n",
       "      <td>NaN</td>\n",
       "    </tr>\n",
       "    <tr>\n",
       "      <th>21</th>\n",
       "      <td>Polska</td>\n",
       "      <td>2000.0</td>\n",
       "      <td>n.d.</td>\n",
       "      <td>n.d.</td>\n",
       "      <td>n.d.</td>\n",
       "      <td>NaN</td>\n",
       "    </tr>\n",
       "    <tr>\n",
       "      <th>22</th>\n",
       "      <td>Polska</td>\n",
       "      <td>1999.0</td>\n",
       "      <td>n.d.</td>\n",
       "      <td>n.d.</td>\n",
       "      <td>n.d.</td>\n",
       "      <td>NaN</td>\n",
       "    </tr>\n",
       "    <tr>\n",
       "      <th>23</th>\n",
       "      <td>woj. dolnol¹skie</td>\n",
       "      <td>2021.0</td>\n",
       "      <td>5 605</td>\n",
       "      <td>5 602</td>\n",
       "      <td>99,9</td>\n",
       "      <td>NaN</td>\n",
       "    </tr>\n",
       "    <tr>\n",
       "      <th>24</th>\n",
       "      <td>woj. dolnol¹skie</td>\n",
       "      <td>2020.0</td>\n",
       "      <td>4 895</td>\n",
       "      <td>4 887</td>\n",
       "      <td>99,8</td>\n",
       "      <td>NaN</td>\n",
       "    </tr>\n",
       "  </tbody>\n",
       "</table>\n",
       "</div>"
      ],
      "text/plain": [
       "   Jednostka podzia³u administracyjnego     Rok Przestêpstwa stwierdzone  \\\n",
       "0                                Polska  2021.0                   58 085   \n",
       "1                                Polska  2020.0                   52 907   \n",
       "2                                Polska  2019.0                   56 207   \n",
       "3                                Polska  2018.0                   51 499   \n",
       "4                                Polska  2017.0                   55 170   \n",
       "5                                Polska  2016.0                   60 443   \n",
       "6                                Polska  2015.0                   64 336   \n",
       "7                                Polska  2014.0                   73 920   \n",
       "8                                Polska  2013.0                  128 064   \n",
       "9                                Polska  2012.0                  141 863   \n",
       "10                               Polska  2011.0                  150 763   \n",
       "11                               Polska  2010.0                  142 144   \n",
       "12                               Polska  2009.0                  151 762   \n",
       "13                               Polska  2008.0                  150 074   \n",
       "14                               Polska  2007.0                  150 382   \n",
       "15                               Polska  2006.0                  180 955   \n",
       "16                               Polska  2005.0                  178 571   \n",
       "17                               Polska  2004.0                  158 543   \n",
       "18                               Polska  2003.0                  150 901   \n",
       "19                               Polska  2002.0                  144 412   \n",
       "20                               Polska  2001.0                  120 113   \n",
       "21                               Polska  2000.0                     n.d.   \n",
       "22                               Polska  1999.0                     n.d.   \n",
       "23                    woj. dolnol¹skie  2021.0                    5 605   \n",
       "24                    woj. dolnol¹skie  2020.0                    4 895   \n",
       "\n",
       "   Przestêpstwa wykryte % wykrycia  Unnamed: 5  \n",
       "0                58 054       99,9         NaN  \n",
       "1                52 861       99,9         NaN  \n",
       "2                56 158       99,9         NaN  \n",
       "3                51 464       99,9         NaN  \n",
       "4                55 089       99,8         NaN  \n",
       "5                60 333       99,8         NaN  \n",
       "6                64 192       99,8         NaN  \n",
       "7                73 787       99,8         NaN  \n",
       "8               127 908       99,9         NaN  \n",
       "9               141 958      100,0         NaN  \n",
       "10              150 806      100,0         NaN  \n",
       "11              142 183      100,0         NaN  \n",
       "12              151 808      100,0         NaN  \n",
       "13              150 101      100,0         NaN  \n",
       "14              150 435      100,0         NaN  \n",
       "15              181 012      100,0         NaN  \n",
       "16              178 597      100,0         NaN  \n",
       "17              158 533      100,0         NaN  \n",
       "18              150 882      100,0         NaN  \n",
       "19              144 375      100,0         NaN  \n",
       "20              120 042       99,9         NaN  \n",
       "21                 n.d.       n.d.         NaN  \n",
       "22                 n.d.       n.d.         NaN  \n",
       "23                5 602       99,9         NaN  \n",
       "24                4 887       99,8         NaN  "
      ]
     },
     "execution_count": 5,
     "metadata": {},
     "output_type": "execute_result"
    }
   ],
   "source": [
    "import pandas as pd\n",
    "\n",
    "original_data_path = '../data/raw/driving-under-influence-pl/dui_pl.csv'\n",
    "\n",
    "df = pd.read_csv(original_data_path, \n",
    "                   skiprows=2,  encoding='iso-8859-1', sep=';')\n",
    "\n",
    "df.head(25)"
   ]
  },
  {
   "cell_type": "code",
   "execution_count": 6,
   "metadata": {},
   "outputs": [],
   "source": [
    "df = df.iloc[:21,[1,2]]"
   ]
  },
  {
   "cell_type": "code",
   "execution_count": 7,
   "metadata": {},
   "outputs": [],
   "source": [
    "df.iloc[:,1] = pd.to_numeric(df.iloc[:,1].str.replace(' ', ''), errors='coerce').astype(pd.Int64Dtype())\n",
    "\n",
    "df = df.astype(int)\n"
   ]
  },
  {
   "cell_type": "markdown",
   "metadata": {},
   "source": [
    "### 2. Columns names & descriptions"
   ]
  },
  {
   "cell_type": "code",
   "execution_count": 8,
   "metadata": {},
   "outputs": [
    {
     "data": {
      "text/plain": [
       "2"
      ]
     },
     "execution_count": 8,
     "metadata": {},
     "output_type": "execute_result"
    }
   ],
   "source": [
    "column_names_descriptions = {\n",
    "    0: ('year', \n",
    "        'year', \n",
    "        'rok'),\n",
    "    1: ('numberOfCrimes', \n",
    "        'number of crimes found', \n",
    "        'liczba stwierdzonych przestępstw'),\n",
    "}\n",
    "\n",
    "new_column_names = [t[0] for t in column_names_descriptions.values()]\n",
    "\n",
    "len(new_column_names)\n"
   ]
  },
  {
   "cell_type": "code",
   "execution_count": 9,
   "metadata": {},
   "outputs": [],
   "source": [
    "df.columns = new_column_names"
   ]
  },
  {
   "cell_type": "code",
   "execution_count": 10,
   "metadata": {},
   "outputs": [],
   "source": [
    "df.sort_values(ascending=True, by=\"year\", inplace=True)"
   ]
  },
  {
   "cell_type": "code",
   "execution_count": 11,
   "metadata": {},
   "outputs": [
    {
     "data": {
      "text/html": [
       "<div>\n",
       "<style scoped>\n",
       "    .dataframe tbody tr th:only-of-type {\n",
       "        vertical-align: middle;\n",
       "    }\n",
       "\n",
       "    .dataframe tbody tr th {\n",
       "        vertical-align: top;\n",
       "    }\n",
       "\n",
       "    .dataframe thead th {\n",
       "        text-align: right;\n",
       "    }\n",
       "</style>\n",
       "<table border=\"1\" class=\"dataframe\">\n",
       "  <thead>\n",
       "    <tr style=\"text-align: right;\">\n",
       "      <th></th>\n",
       "      <th>year</th>\n",
       "      <th>numberOfCrimes</th>\n",
       "    </tr>\n",
       "  </thead>\n",
       "  <tbody>\n",
       "    <tr>\n",
       "      <th>0</th>\n",
       "      <td>2001</td>\n",
       "      <td>120113</td>\n",
       "    </tr>\n",
       "    <tr>\n",
       "      <th>1</th>\n",
       "      <td>2002</td>\n",
       "      <td>144412</td>\n",
       "    </tr>\n",
       "    <tr>\n",
       "      <th>2</th>\n",
       "      <td>2003</td>\n",
       "      <td>150901</td>\n",
       "    </tr>\n",
       "    <tr>\n",
       "      <th>3</th>\n",
       "      <td>2004</td>\n",
       "      <td>158543</td>\n",
       "    </tr>\n",
       "    <tr>\n",
       "      <th>4</th>\n",
       "      <td>2005</td>\n",
       "      <td>178571</td>\n",
       "    </tr>\n",
       "  </tbody>\n",
       "</table>\n",
       "</div>"
      ],
      "text/plain": [
       "   year  numberOfCrimes\n",
       "0  2001          120113\n",
       "1  2002          144412\n",
       "2  2003          150901\n",
       "3  2004          158543\n",
       "4  2005          178571"
      ]
     },
     "execution_count": 11,
     "metadata": {},
     "output_type": "execute_result"
    }
   ],
   "source": [
    "df.reset_index(inplace=True, drop=True)\n",
    "df.head()"
   ]
  },
  {
   "cell_type": "code",
   "execution_count": 12,
   "metadata": {},
   "outputs": [],
   "source": [
    "df = df.astype(int)"
   ]
  },
  {
   "cell_type": "markdown",
   "metadata": {},
   "source": [
    "### 3. create db tables"
   ]
  },
  {
   "cell_type": "code",
   "execution_count": 13,
   "metadata": {},
   "outputs": [],
   "source": [
    "from src.database.connect_db import connect_db\n",
    "\n",
    "db = connect_db()\n",
    "\n",
    "cursor = db.cursor()"
   ]
  },
  {
   "cell_type": "code",
   "execution_count": 14,
   "metadata": {},
   "outputs": [],
   "source": [
    "MAIN_TABLE_NAME = 'duiPl'"
   ]
  },
  {
   "cell_type": "code",
   "execution_count": 15,
   "metadata": {},
   "outputs": [],
   "source": [
    "query = f\"CREATE TABLE {MAIN_TABLE_NAME} (year INT PRIMARY KEY, \"\n",
    "\n",
    "for column in df.columns[1:]:\n",
    "    query += f\"{column} INT NOT NULL, \"\n",
    "\n",
    "\n",
    "query = query[:-2] + \")\""
   ]
  },
  {
   "cell_type": "code",
   "execution_count": 16,
   "metadata": {},
   "outputs": [],
   "source": [
    "try:\n",
    "    cursor.execute(query)\n",
    "except:\n",
    "    print('table already created')"
   ]
  },
  {
   "cell_type": "code",
   "execution_count": 17,
   "metadata": {},
   "outputs": [],
   "source": [
    "data = [tuple(row) for index, row in df.iterrows()]"
   ]
  },
  {
   "cell_type": "code",
   "execution_count": 18,
   "metadata": {},
   "outputs": [],
   "source": [
    "query = f\"\"\"\n",
    "INSERT INTO {MAIN_TABLE_NAME} ({', '.join(df.columns)}) \n",
    "VALUES ({', '.join(['%s']*len(df.columns))});\n",
    "\"\"\"\n",
    "\n",
    "try:\n",
    "    cursor.executemany(query, data)\n",
    "except:\n",
    "    print('data added already')"
   ]
  },
  {
   "cell_type": "code",
   "execution_count": 19,
   "metadata": {},
   "outputs": [
    {
     "data": {
      "text/plain": [
       "((2001, 120113),\n",
       " (2002, 144412),\n",
       " (2003, 150901),\n",
       " (2004, 158543),\n",
       " (2005, 178571))"
      ]
     },
     "execution_count": 19,
     "metadata": {},
     "output_type": "execute_result"
    }
   ],
   "source": [
    "cursor.execute(f\"\"\"\n",
    "               SELECT * \n",
    "               FROM {MAIN_TABLE_NAME}\n",
    "               LIMIT 5\n",
    "               \"\"\")\n",
    "cursor.fetchall()\n"
   ]
  },
  {
   "cell_type": "code",
   "execution_count": 20,
   "metadata": {},
   "outputs": [],
   "source": [
    "from src.database.create_ds_desc_table import create_ds_desc_table\n",
    "\n",
    "\n",
    "create_ds_desc_table(MAIN_TABLE_NAME)"
   ]
  },
  {
   "cell_type": "code",
   "execution_count": 21,
   "metadata": {},
   "outputs": [],
   "source": [
    "data = [row for row in column_names_descriptions.values()]"
   ]
  },
  {
   "cell_type": "code",
   "execution_count": 22,
   "metadata": {},
   "outputs": [],
   "source": [
    "from src.database.insert_into_ds_desc import insert_into_ds_desc\n",
    "\n",
    "\n",
    "insert_into_ds_desc(MAIN_TABLE_NAME, data)"
   ]
  },
  {
   "cell_type": "markdown",
   "metadata": {},
   "source": [
    "### 4. upload files to GCP storage"
   ]
  },
  {
   "cell_type": "code",
   "execution_count": 23,
   "metadata": {},
   "outputs": [],
   "source": [
    "df_desc = pd.DataFrame(data, \n",
    "    columns=['column_name', \n",
    "    'description', \n",
    "    'descriptionPl'])"
   ]
  },
  {
   "cell_type": "code",
   "execution_count": 24,
   "metadata": {},
   "outputs": [],
   "source": [
    "df_path = f'../data/processed/{topicName}/{fileName}.csv'\n",
    "df_path_desc =f'../data/processed/{topicName}/{fileName}-desc.csv'"
   ]
  },
  {
   "cell_type": "code",
   "execution_count": 25,
   "metadata": {},
   "outputs": [],
   "source": [
    "df.to_csv(df_path, index=False)\n",
    "df_desc.to_csv(df_path_desc, index=False)"
   ]
  },
  {
   "cell_type": "code",
   "execution_count": 26,
   "metadata": {},
   "outputs": [],
   "source": [
    "destination = f\"{topicName}/{fileName}.csv\"\n",
    "destination_desc = f\"{topicName}/{fileName}-desc.csv\"\n",
    "destination_original = f\"{topicName}/{fileName}-source.{sourceFileExt}\""
   ]
  },
  {
   "cell_type": "code",
   "execution_count": 27,
   "metadata": {},
   "outputs": [
    {
     "name": "stdout",
     "output_type": "stream",
     "text": [
      "File ../data/processed/driving-under-influence-pl/dui-pl.csv uploaded to legal-charts-datasets/driving-under-influence-pl/dui-pl.csv.\n",
      "File ../data/processed/driving-under-influence-pl/dui-pl.csv uploaded to legal-charts-datasets/driving-under-influence-pl/dui-pl-desc.csv.\n",
      "File ../data/raw/driving-under-influence-pl/dui_pl.csv uploaded to legal-charts-datasets/driving-under-influence-pl/dui-pl-source.csv.\n"
     ]
    }
   ],
   "source": [
    "from src.utils.upload_file_gpc import upload_file\n",
    "\n",
    "upload_file(df_path,destination)\n",
    "upload_file(df_path,destination_desc)\n",
    "upload_file(original_data_path,destination_original)"
   ]
  },
  {
   "cell_type": "code",
   "execution_count": 28,
   "metadata": {},
   "outputs": [
    {
     "data": {
      "text/plain": [
       "year              int64\n",
       "numberOfCrimes    int64\n",
       "dtype: object"
      ]
     },
     "execution_count": 28,
     "metadata": {},
     "output_type": "execute_result"
    }
   ],
   "source": [
    "df.dtypes"
   ]
  },
  {
   "cell_type": "code",
   "execution_count": 29,
   "metadata": {},
   "outputs": [],
   "source": [
    "db.close()"
   ]
  }
 ],
 "metadata": {
  "kernelspec": {
   "display_name": "ai-krs",
   "language": "python",
   "name": "python3"
  },
  "language_info": {
   "codemirror_mode": {
    "name": "ipython",
    "version": 3
   },
   "file_extension": ".py",
   "mimetype": "text/x-python",
   "name": "python",
   "nbconvert_exporter": "python",
   "pygments_lexer": "ipython3",
   "version": "3.10.12"
  },
  "orig_nbformat": 4
 },
 "nbformat": 4,
 "nbformat_minor": 2
}
