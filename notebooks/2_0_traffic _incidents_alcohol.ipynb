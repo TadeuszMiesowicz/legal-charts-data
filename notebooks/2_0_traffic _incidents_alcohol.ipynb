{
 "cells": [
  {
   "cell_type": "markdown",
   "metadata": {},
   "source": [
    "## Traffic incidents in Poland under the influence of alcohol 2016-2022\n",
    "\n",
    "### 1. topic description"
   ]
  },
  {
   "cell_type": "code",
   "execution_count": 146,
   "metadata": {},
   "outputs": [],
   "source": [
    "id = 2\n",
    "topicName = 'traffic-incidents-alcohol-pl'\n",
    "title = \"\"\"\n",
    "traffic incidents in Poland under the influence of alcohol\n",
    "\"\"\".replace('\\n',' ').strip()\n",
    "titlePl = \"\"\"\n",
    "zdarzenia drogowe w Polsce pod wpływem alkoholu\n",
    "\"\"\".replace('\\n',' ').strip()\n",
    "country = 'Poland'\n",
    "countryPl = 'Polska'\n",
    "startYear = 2016\n",
    "endYear = 2022\n",
    "description=\"\"\"\n",
    "Statistics of traffic incidents in Poland under the influence \n",
    "of alcohol along with data of drivers age. Data published by the Polish Police Headquarters.\n",
    "In addition, a data visualization of the average annual\n",
    "consumption of alcoholic beverages per capita \n",
    "per liter of 100% alcohol (Poland).\n",
    "Data on alcohol consumption is collected and published by the Polish \n",
    "State Agency for Solving Alcohol Problems.\n",
    "\"\"\".replace('\\n',' ').strip()\n",
    "descriptionPl=\"\"\"\n",
    "Statystyki zdarzeń drogowych w Polsce dokonanych pod wpływem alkoholu wraz z wiekiem kierowców sprawców. Dane publikowane przez polską Komendę Główną Policji.\n",
    "Dodatkowo została umieszczona wizualizacja danych o średnim rocznym\n",
    "spożyciu napojów alkoholowych na jednego mieszkańca \n",
    "w przeliczeniu na jeden litr alkoholu 100% (Polska).\n",
    "Dane o spożyciu alkoholu są gromadzone i publikowane przez polską \n",
    "Państwową Agencję Rozwiązywania Problemów Alkoholowych.\n",
    "\"\"\".replace('\\n',' ').strip()\n",
    "sourceName = \"Komenda Główna Policji\"\n",
    "sourceNamePl =\" Police Headquarters (PL)\"\n",
    "sourceLink=\"https://dane.gov.pl/pl/dataset/834,zdarzenia-w-ruchu-drogowym?page=4&per_page=20&q=&sort=-data_date&model=resources\"\n",
    "fileName= \"traffic-alcohol-pl\"\n",
    "sourceFileExt = 'zip'\n"
   ]
  },
  {
   "cell_type": "code",
   "execution_count": 147,
   "metadata": {},
   "outputs": [],
   "source": [
    "from src.database.insert_topic import insert_topic\n",
    "\n",
    "insert_topic(\n",
    "    id,\n",
    "    topicName,\n",
    "    title,\n",
    "    titlePl,\n",
    "    country,\n",
    "    countryPl,\n",
    "    startYear,\n",
    "    endYear,\n",
    "    description,\n",
    "    descriptionPl,\n",
    "    sourceName,\n",
    "    sourceNamePl,\n",
    "    sourceLink,\n",
    "    fileName,\n",
    "    sourceFileExt\n",
    ")"
   ]
  },
  {
   "cell_type": "code",
   "execution_count": 148,
   "metadata": {},
   "outputs": [],
   "source": [
    "from src.database.connect_db import connect_db\n",
    "\n",
    "db = connect_db()\n",
    "\n",
    "cursor = db.cursor()"
   ]
  },
  {
   "cell_type": "markdown",
   "metadata": {},
   "source": [
    "### 2. data exploration"
   ]
  },
  {
   "cell_type": "code",
   "execution_count": 149,
   "metadata": {},
   "outputs": [
    {
     "data": {
      "text/html": [
       "<div>\n",
       "<style scoped>\n",
       "    .dataframe tbody tr th:only-of-type {\n",
       "        vertical-align: middle;\n",
       "    }\n",
       "\n",
       "    .dataframe tbody tr th {\n",
       "        vertical-align: top;\n",
       "    }\n",
       "\n",
       "    .dataframe thead th {\n",
       "        text-align: right;\n",
       "    }\n",
       "</style>\n",
       "<table border=\"1\" class=\"dataframe\">\n",
       "  <thead>\n",
       "    <tr style=\"text-align: right;\">\n",
       "      <th></th>\n",
       "      <th>Wina</th>\n",
       "      <th>Liczba wypadkï¿½w</th>\n",
       "      <th>Liczba zabitych</th>\n",
       "      <th>Liczba rannych</th>\n",
       "      <th>Liczba kolizji</th>\n",
       "    </tr>\n",
       "  </thead>\n",
       "  <tbody>\n",
       "    <tr>\n",
       "      <th>0</th>\n",
       "      <td>wspï¿½wina uczestnikï¿½w ruchu</td>\n",
       "      <td>36</td>\n",
       "      <td>4</td>\n",
       "      <td>41</td>\n",
       "      <td>70</td>\n",
       "    </tr>\n",
       "    <tr>\n",
       "      <th>1</th>\n",
       "      <td>z winy kierujï¿½cego</td>\n",
       "      <td>1686</td>\n",
       "      <td>221</td>\n",
       "      <td>2100</td>\n",
       "      <td>7391</td>\n",
       "    </tr>\n",
       "    <tr>\n",
       "      <th>2</th>\n",
       "      <td>z winy pieszego</td>\n",
       "      <td>573</td>\n",
       "      <td>81</td>\n",
       "      <td>500</td>\n",
       "      <td>531</td>\n",
       "    </tr>\n",
       "    <tr>\n",
       "      <th>3</th>\n",
       "      <td>Podsumowanie caï¿½kowite</td>\n",
       "      <td>2 295</td>\n",
       "      <td>306</td>\n",
       "      <td>2641</td>\n",
       "      <td>7992</td>\n",
       "    </tr>\n",
       "  </tbody>\n",
       "</table>\n",
       "</div>"
      ],
      "text/plain": [
       "                             Wina Liczba wypadkï¿½w  Liczba zabitych  \\\n",
       "0  wspï¿½wina uczestnikï¿½w ruchu                36                4   \n",
       "1            z winy kierujï¿½cego              1686              221   \n",
       "2                 z winy pieszego               573               81   \n",
       "3        Podsumowanie caï¿½kowite             2 295              306   \n",
       "\n",
       "   Liczba rannych  Liczba kolizji  \n",
       "0              41              70  \n",
       "1            2100            7391  \n",
       "2             500             531  \n",
       "3            2641            7992  "
      ]
     },
     "execution_count": 149,
     "metadata": {},
     "output_type": "execute_result"
    }
   ],
   "source": [
    "import pandas as pd\n",
    "\n",
    "original_data_path = '../data/raw/traffic-incidents-alcohol-pl/2016.csv'\n",
    "\n",
    "df = pd.read_csv(original_data_path, \n",
    "                   skiprows=4,  encoding='iso-8859-1', sep=';')\n",
    "\n",
    "df.head()"
   ]
  },
  {
   "cell_type": "markdown",
   "metadata": {},
   "source": [
    "- Index 3 is deleted as it contains sum of columns - data duplication\n",
    "- First column is not needed -> there will be separate column for every field"
   ]
  },
  {
   "cell_type": "code",
   "execution_count": 150,
   "metadata": {},
   "outputs": [],
   "source": [
    "df.drop(index=3, axis=0, inplace=True)"
   ]
  },
  {
   "cell_type": "code",
   "execution_count": 151,
   "metadata": {},
   "outputs": [],
   "source": [
    "df.drop(columns=\"Wina\", axis=1, inplace=True)"
   ]
  },
  {
   "cell_type": "code",
   "execution_count": 152,
   "metadata": {},
   "outputs": [
    {
     "data": {
      "text/html": [
       "<div>\n",
       "<style scoped>\n",
       "    .dataframe tbody tr th:only-of-type {\n",
       "        vertical-align: middle;\n",
       "    }\n",
       "\n",
       "    .dataframe tbody tr th {\n",
       "        vertical-align: top;\n",
       "    }\n",
       "\n",
       "    .dataframe thead th {\n",
       "        text-align: right;\n",
       "    }\n",
       "</style>\n",
       "<table border=\"1\" class=\"dataframe\">\n",
       "  <thead>\n",
       "    <tr style=\"text-align: right;\">\n",
       "      <th></th>\n",
       "      <th></th>\n",
       "      <th></th>\n",
       "      <th></th>\n",
       "      <th></th>\n",
       "      <th></th>\n",
       "      <th></th>\n",
       "      <th></th>\n",
       "      <th></th>\n",
       "      <th></th>\n",
       "      <th></th>\n",
       "      <th></th>\n",
       "      <th></th>\n",
       "    </tr>\n",
       "  </thead>\n",
       "  <tbody>\n",
       "    <tr>\n",
       "      <th>0</th>\n",
       "      <td>36</td>\n",
       "      <td>4</td>\n",
       "      <td>41</td>\n",
       "      <td>70</td>\n",
       "      <td>1686</td>\n",
       "      <td>221</td>\n",
       "      <td>2100</td>\n",
       "      <td>7391</td>\n",
       "      <td>573</td>\n",
       "      <td>81</td>\n",
       "      <td>500</td>\n",
       "      <td>531</td>\n",
       "    </tr>\n",
       "  </tbody>\n",
       "</table>\n",
       "</div>"
      ],
      "text/plain": [
       "                                                          \n",
       "0  36  4  41  70  1686  221  2100  7391  573  81  500  531"
      ]
     },
     "execution_count": 152,
     "metadata": {},
     "output_type": "execute_result"
    }
   ],
   "source": [
    "df = df.stack().to_frame().T\n",
    "\n",
    "df.columns = [''] * len(df.columns)\n",
    "\n",
    "df"
   ]
  },
  {
   "cell_type": "markdown",
   "metadata": {},
   "source": [
    "### 2. Columns names & descriptions"
   ]
  },
  {
   "cell_type": "code",
   "execution_count": 153,
   "metadata": {},
   "outputs": [],
   "source": [
    "column_names_descriptions = {\n",
    "    0: ('year', \n",
    "        'year', \n",
    "        'rok'),\n",
    "    1: ('coFaultAccidents', \n",
    "        'number of accidents - shared fault of participants', \n",
    "        'liczba wypadków - współwina uczestników ruchu'),\n",
    "    2: ('driverFaultAccidents', \n",
    "        \"number of accidents - drive's' fault\", \n",
    "        'liczba wypadków - wina kierowcy'),\n",
    "    3: ('pedestrianFaultAccidents', \n",
    "        \"number of accidents - pedestrian's' fault\", \n",
    "        'liczba wypadków - wina przechodnia'),\n",
    "    4: ('coFaultKilled', \n",
    "        'number of killed - shared fault of participants', \n",
    "        'liczba zbitych - współwina uczestników ruchu'),\n",
    "    5: ('driverFaultKilled', \n",
    "        \"number of killed - drive's' fault\", \n",
    "        'liczba zbitych - wina kierowcy'),\n",
    "    6: ('pedestrianFaultKilled', \n",
    "        \"number of killed - pedestrian's' fault\", \n",
    "        'liczba zbitych - wina przechodnia'),\n",
    "    7: ('coFaultWounded', \n",
    "        'number of wounded - shared fault of participants', \n",
    "        'liczba rannych - współwina uczestników ruchu'),\n",
    "    8: ('driverFaultWounded', \n",
    "        \"number of wounded - drive's' fault\", \n",
    "        'liczba rannych - wina kierowcy'),\n",
    "    9: ('pedestrianFaultWounded', \n",
    "        \"number of wounded - pedestrian's' fault\", \n",
    "        'liczba rannych - wina przechodnia'),\n",
    "    10: ('coFaultCollisions', \n",
    "        'number of collisions - shared fault of participants', \n",
    "        'liczba kolizji - współwina uczestników ruchu'),\n",
    "    11: ('driverFaultCollisions', \n",
    "        \"number of collisions - drive's' fault\", \n",
    "        'liczba kolizji - wina kierowcy'),\n",
    "    12: ('pedestrianFaultCollisions', \n",
    "        \"number of collisions - pedestrian's' fault\", \n",
    "        'liczba kolizji - wina przechodnia'),\n",
    "}\n",
    "\n",
    "new_column_names = [t[0] for t in column_names_descriptions.values()]\n"
   ]
  },
  {
   "cell_type": "code",
   "execution_count": 154,
   "metadata": {},
   "outputs": [],
   "source": [
    "df = pd.DataFrame(columns=new_column_names)"
   ]
  },
  {
   "cell_type": "code",
   "execution_count": 155,
   "metadata": {},
   "outputs": [],
   "source": [
    "for year in range(2016,2023):\n",
    "    original_data_path = f'../data/raw/traffic-incidents-alcohol-pl/{year}.csv'\n",
    "\n",
    "    temp_df = pd.read_csv(original_data_path, \n",
    "                   skiprows=4,  encoding='iso-8859-1', sep=';')\n",
    "    temp_df.drop(index=3, axis=0, inplace=True)\n",
    "    temp_df.drop(columns=\"Wina\", axis=1, inplace=True)\n",
    "    temp_df = temp_df.stack().to_frame().T\n",
    "    temp_df.insert(0, '', [year])\n",
    "    temp_df.columns = new_column_names\n",
    "    df = pd.concat([df,temp_df], axis=0)\n",
    "    "
   ]
  },
  {
   "cell_type": "code",
   "execution_count": 156,
   "metadata": {},
   "outputs": [
    {
     "data": {
      "text/html": [
       "<div>\n",
       "<style scoped>\n",
       "    .dataframe tbody tr th:only-of-type {\n",
       "        vertical-align: middle;\n",
       "    }\n",
       "\n",
       "    .dataframe tbody tr th {\n",
       "        vertical-align: top;\n",
       "    }\n",
       "\n",
       "    .dataframe thead th {\n",
       "        text-align: right;\n",
       "    }\n",
       "</style>\n",
       "<table border=\"1\" class=\"dataframe\">\n",
       "  <thead>\n",
       "    <tr style=\"text-align: right;\">\n",
       "      <th></th>\n",
       "      <th>year</th>\n",
       "      <th>coFaultAccidents</th>\n",
       "      <th>driverFaultAccidents</th>\n",
       "      <th>pedestrianFaultAccidents</th>\n",
       "      <th>coFaultKilled</th>\n",
       "      <th>driverFaultKilled</th>\n",
       "      <th>pedestrianFaultKilled</th>\n",
       "      <th>coFaultWounded</th>\n",
       "      <th>driverFaultWounded</th>\n",
       "      <th>pedestrianFaultWounded</th>\n",
       "      <th>coFaultCollisions</th>\n",
       "      <th>driverFaultCollisions</th>\n",
       "      <th>pedestrianFaultCollisions</th>\n",
       "    </tr>\n",
       "  </thead>\n",
       "  <tbody>\n",
       "    <tr>\n",
       "      <th>0</th>\n",
       "      <td>2016</td>\n",
       "      <td>36</td>\n",
       "      <td>4</td>\n",
       "      <td>41</td>\n",
       "      <td>70</td>\n",
       "      <td>1686</td>\n",
       "      <td>221</td>\n",
       "      <td>2100</td>\n",
       "      <td>7391</td>\n",
       "      <td>573</td>\n",
       "      <td>81</td>\n",
       "      <td>500</td>\n",
       "      <td>531</td>\n",
       "    </tr>\n",
       "    <tr>\n",
       "      <th>1</th>\n",
       "      <td>2017</td>\n",
       "      <td>42.0</td>\n",
       "      <td>4.0</td>\n",
       "      <td>50.0</td>\n",
       "      <td>65.0</td>\n",
       "      <td>1603.0</td>\n",
       "      <td>198.0</td>\n",
       "      <td>1936.0</td>\n",
       "      <td>7809.0</td>\n",
       "      <td>518.0</td>\n",
       "      <td>71.0</td>\n",
       "      <td>454.0</td>\n",
       "      <td>477.0</td>\n",
       "    </tr>\n",
       "    <tr>\n",
       "      <th>2</th>\n",
       "      <td>2018</td>\n",
       "      <td>31</td>\n",
       "      <td>2</td>\n",
       "      <td>41</td>\n",
       "      <td>70</td>\n",
       "      <td>1614</td>\n",
       "      <td>203</td>\n",
       "      <td>1965</td>\n",
       "      <td>8137</td>\n",
       "      <td>489</td>\n",
       "      <td>61</td>\n",
       "      <td>433</td>\n",
       "      <td>444</td>\n",
       "    </tr>\n",
       "    <tr>\n",
       "      <th>3</th>\n",
       "      <td>2019</td>\n",
       "      <td>37</td>\n",
       "      <td>9</td>\n",
       "      <td>35</td>\n",
       "      <td>76</td>\n",
       "      <td>1655</td>\n",
       "      <td>192</td>\n",
       "      <td>2015</td>\n",
       "      <td>9034</td>\n",
       "      <td>397</td>\n",
       "      <td>64</td>\n",
       "      <td>339</td>\n",
       "      <td>394</td>\n",
       "    </tr>\n",
       "    <tr>\n",
       "      <th>4</th>\n",
       "      <td>2020</td>\n",
       "      <td>18</td>\n",
       "      <td>3</td>\n",
       "      <td>20</td>\n",
       "      <td>91</td>\n",
       "      <td>1656</td>\n",
       "      <td>216</td>\n",
       "      <td>1847</td>\n",
       "      <td>9848</td>\n",
       "      <td>341</td>\n",
       "      <td>52</td>\n",
       "      <td>300</td>\n",
       "      <td>335</td>\n",
       "    </tr>\n",
       "  </tbody>\n",
       "</table>\n",
       "</div>"
      ],
      "text/plain": [
       "   year coFaultAccidents driverFaultAccidents pedestrianFaultAccidents  \\\n",
       "0  2016               36                    4                       41   \n",
       "1  2017             42.0                  4.0                     50.0   \n",
       "2  2018               31                    2                       41   \n",
       "3  2019               37                    9                       35   \n",
       "4  2020               18                    3                       20   \n",
       "\n",
       "  coFaultKilled driverFaultKilled pedestrianFaultKilled coFaultWounded  \\\n",
       "0            70              1686                   221           2100   \n",
       "1          65.0            1603.0                 198.0         1936.0   \n",
       "2            70              1614                   203           1965   \n",
       "3            76              1655                   192           2015   \n",
       "4            91              1656                   216           1847   \n",
       "\n",
       "  driverFaultWounded pedestrianFaultWounded coFaultCollisions  \\\n",
       "0               7391                    573                81   \n",
       "1             7809.0                  518.0              71.0   \n",
       "2               8137                    489                61   \n",
       "3               9034                    397                64   \n",
       "4               9848                    341                52   \n",
       "\n",
       "  driverFaultCollisions pedestrianFaultCollisions  \n",
       "0                   500                       531  \n",
       "1                 454.0                     477.0  \n",
       "2                   433                       444  \n",
       "3                   339                       394  \n",
       "4                   300                       335  "
      ]
     },
     "execution_count": 156,
     "metadata": {},
     "output_type": "execute_result"
    }
   ],
   "source": [
    "df.reset_index(inplace=True, drop=True)\n",
    "df.head()"
   ]
  },
  {
   "cell_type": "code",
   "execution_count": 157,
   "metadata": {},
   "outputs": [],
   "source": [
    "df = df.astype(int)"
   ]
  },
  {
   "cell_type": "markdown",
   "metadata": {},
   "source": [
    "### 3. create db tables"
   ]
  },
  {
   "cell_type": "code",
   "execution_count": 158,
   "metadata": {},
   "outputs": [],
   "source": [
    "MAIN_TABLE_NAME = 'trafficIncidentsAlcoholPl'"
   ]
  },
  {
   "cell_type": "code",
   "execution_count": 159,
   "metadata": {},
   "outputs": [],
   "source": [
    "query = f\"CREATE TABLE {MAIN_TABLE_NAME} (year INT PRIMARY KEY, \"\n",
    "\n",
    "for column in df.columns[1:]:\n",
    "    query += f\"{column} INT NOT NULL, \"\n",
    "\n",
    "\n",
    "query = query[:-2] + \")\""
   ]
  },
  {
   "cell_type": "code",
   "execution_count": 160,
   "metadata": {},
   "outputs": [
    {
     "name": "stdout",
     "output_type": "stream",
     "text": [
      "table already created\n"
     ]
    }
   ],
   "source": [
    "try:\n",
    "    cursor.execute(query)\n",
    "except:\n",
    "    print('table already created')"
   ]
  },
  {
   "cell_type": "code",
   "execution_count": 161,
   "metadata": {},
   "outputs": [],
   "source": [
    "data = [tuple(row) for index, row in df.iterrows()]"
   ]
  },
  {
   "cell_type": "code",
   "execution_count": 162,
   "metadata": {},
   "outputs": [
    {
     "name": "stdout",
     "output_type": "stream",
     "text": [
      "data added already\n"
     ]
    }
   ],
   "source": [
    "query = f\"\"\"\n",
    "INSERT INTO {MAIN_TABLE_NAME} ({', '.join(df.columns)}) \n",
    "VALUES ({', '.join(['%s']*len(df.columns))});\n",
    "\"\"\"\n",
    "\n",
    "try:\n",
    "    cursor.executemany(query, data)\n",
    "except:\n",
    "    print('data added already')"
   ]
  },
  {
   "cell_type": "code",
   "execution_count": 163,
   "metadata": {},
   "outputs": [
    {
     "data": {
      "text/plain": [
       "((2016, 36, 4, 41, 70, 1686, 221, 2100, 7391, 573, 81, 500, 531),\n",
       " (2017, 42, 4, 50, 65, 1603, 198, 1936, 7809, 518, 71, 454, 477),\n",
       " (2018, 31, 2, 41, 70, 1614, 203, 1965, 8137, 489, 61, 433, 444),\n",
       " (2019, 37, 9, 35, 76, 1655, 192, 2015, 9034, 397, 64, 339, 394),\n",
       " (2020, 18, 3, 20, 91, 1656, 216, 1847, 9848, 341, 52, 300, 335))"
      ]
     },
     "execution_count": 163,
     "metadata": {},
     "output_type": "execute_result"
    }
   ],
   "source": [
    "cursor.execute(f\"\"\"\n",
    "               SELECT * \n",
    "               FROM {MAIN_TABLE_NAME}\n",
    "               LIMIT 5\n",
    "               \"\"\")\n",
    "cursor.fetchall()\n"
   ]
  },
  {
   "cell_type": "code",
   "execution_count": 164,
   "metadata": {},
   "outputs": [
    {
     "name": "stdout",
     "output_type": "stream",
     "text": [
      "An error occurred: (1050, 'target: legal-charts-dev.-.primary: vttablet: rpc error: code = AlreadyExists desc = Table \\'trafficIncidentsAlcoholPlDesc\\' already exists (errno 1050) (sqlstate 42S01) (CallerID: dwxslyebsjlgo852x54a): Sql: \"create table trafficIncidentsAlcoholPlDesc (\\\\n\\\\tcolumn_name VARCHAR(255),\\\\n\\\\tdescription VARCHAR(255) not null,\\\\n\\\\tdescriptionPl VARCHAR(255) not null,\\\\n\\\\tPRIMARY KEY (column_name)\\\\n)\", BindVars: {REDACTED}')\n"
     ]
    }
   ],
   "source": [
    "from src.database.create_ds_desc_table import create_ds_desc_table\n",
    "\n",
    "\n",
    "create_ds_desc_table(MAIN_TABLE_NAME)"
   ]
  },
  {
   "cell_type": "code",
   "execution_count": 165,
   "metadata": {},
   "outputs": [],
   "source": [
    "data = [row for row in column_names_descriptions.values()]"
   ]
  },
  {
   "cell_type": "code",
   "execution_count": 166,
   "metadata": {},
   "outputs": [
    {
     "name": "stdout",
     "output_type": "stream",
     "text": [
      "data added already\n",
      "An error occurred: (1062, 'target: legal-charts-dev.-.primary: vttablet: rpc error: code = AlreadyExists desc = Duplicate entry \\'year\\' for key \\'trafficIncidentsAlcoholPlDesc.PRIMARY\\' (errno 1062) (sqlstate 23000) (CallerID: dwxslyebsjlgo852x54a): Sql: \"insert into trafficIncidentsAlcoholPlDesc(column_name, description, descriptionPl) values (:vtg1 /* VARCHAR */, :vtg2 /* VARCHAR */, :vtg3 /* VARCHAR */), (:vtg4 /* VARCHAR */, :vtg5 /* VARCHAR */, :vtg6 /* VARCHAR */), (:vtg7 /* VARCHAR */, :vtg8 /* VARCHAR */, :vtg9 /* VARCHAR */), ')\n"
     ]
    }
   ],
   "source": [
    "from src.database.insert_into_ds_desc import insert_into_ds_desc\n",
    "\n",
    "\n",
    "insert_into_ds_desc(MAIN_TABLE_NAME, data)"
   ]
  },
  {
   "cell_type": "markdown",
   "metadata": {},
   "source": [
    "### 4. upload files to GCP storage"
   ]
  },
  {
   "cell_type": "code",
   "execution_count": 167,
   "metadata": {},
   "outputs": [],
   "source": [
    "df_desc = pd.DataFrame(data, \n",
    "    columns=['column_name', \n",
    "    'description', \n",
    "    'descriptionPl'])"
   ]
  },
  {
   "cell_type": "code",
   "execution_count": 168,
   "metadata": {},
   "outputs": [],
   "source": [
    "df_path = f'../data/processed/{topicName}/{fileName}.csv'\n",
    "df_path_desc =f'../data/processed/{topicName}/{fileName}-desc.csv'"
   ]
  },
  {
   "cell_type": "code",
   "execution_count": 169,
   "metadata": {},
   "outputs": [],
   "source": [
    "df.to_csv(df_path, index=False)\n",
    "df_desc.to_csv(df_path_desc, index=False)"
   ]
  },
  {
   "cell_type": "code",
   "execution_count": 170,
   "metadata": {},
   "outputs": [],
   "source": [
    "destination = f\"{topicName}/{fileName}.csv\"\n",
    "destination_desc = f\"{topicName}/{fileName}-desc.csv\"\n",
    "destination_original = f\"{topicName}/{fileName}-source.{sourceFileExt}\""
   ]
  },
  {
   "cell_type": "code",
   "execution_count": 171,
   "metadata": {},
   "outputs": [
    {
     "name": "stdout",
     "output_type": "stream",
     "text": [
      "File ../data/processed/traffic-incidents-alcohol-pl/traffic-alcohol-pl.csv uploaded to legal-charts-datasets/traffic-incidents-alcohol-pl/traffic-alcohol-pl.csv.\n",
      "File ../data/processed/traffic-incidents-alcohol-pl/traffic-alcohol-pl.csv uploaded to legal-charts-datasets/traffic-incidents-alcohol-pl/traffic-alcohol-pl-desc.csv.\n",
      "File ../data/raw/traffic-incidents-alcohol-pl.zip uploaded to legal-charts-datasets/traffic-incidents-alcohol-pl/traffic-alcohol-pl-source.zip.\n"
     ]
    }
   ],
   "source": [
    "from src.utils.upload_file_gpc import upload_file\n",
    "from src.utils.zip_folder import zip_folder\n",
    "\n",
    "original_data_path = '../data/raw/traffic-incidents-alcohol-pl/'  \n",
    "output_path = f'../data/raw/traffic-incidents-alcohol-pl.zip'\n",
    "\n",
    "zip_folder(original_data_path,output_path)\n",
    "\n",
    "\n",
    "upload_file(df_path,destination)\n",
    "upload_file(df_path,destination_desc)\n",
    "upload_file(output_path,destination_original)"
   ]
  },
  {
   "cell_type": "code",
   "execution_count": 172,
   "metadata": {},
   "outputs": [
    {
     "data": {
      "text/plain": [
       "year                         int64\n",
       "coFaultAccidents             int64\n",
       "driverFaultAccidents         int64\n",
       "pedestrianFaultAccidents     int64\n",
       "coFaultKilled                int64\n",
       "driverFaultKilled            int64\n",
       "pedestrianFaultKilled        int64\n",
       "coFaultWounded               int64\n",
       "driverFaultWounded           int64\n",
       "pedestrianFaultWounded       int64\n",
       "coFaultCollisions            int64\n",
       "driverFaultCollisions        int64\n",
       "pedestrianFaultCollisions    int64\n",
       "dtype: object"
      ]
     },
     "execution_count": 172,
     "metadata": {},
     "output_type": "execute_result"
    }
   ],
   "source": [
    "df.dtypes"
   ]
  },
  {
   "cell_type": "markdown",
   "metadata": {},
   "source": [
    "### 5. data intro"
   ]
  },
  {
   "cell_type": "code",
   "execution_count": 173,
   "metadata": {},
   "outputs": [
    {
     "data": {
      "image/png": "[encoded data removed]",
      "text/plain": [
       "<Figure size 1000x600 with 1 Axes>"
      ]
     },
     "metadata": {},
     "output_type": "display_data"
    }
   ],
   "source": [
    "import seaborn as sns\n",
    "import matplotlib.pyplot as plt\n",
    "from src.utils.sns_pallete import palette\n",
    "\n",
    "plt.figure(figsize=(10, 6))\n",
    "\n",
    "sns.set_palette(palette)\n",
    "\n",
    "for y in df.columns[4:]:\n",
    "    sns.lineplot(data=df, x='year', y=y)\n",
    "\n",
    "plt.xlabel('year')\n",
    "plt.ylabel('amount')\n",
    "plt.grid(True)\n",
    "plt.show()\n"
   ]
  },
  {
   "cell_type": "code",
   "execution_count": 174,
   "metadata": {},
   "outputs": [],
   "source": [
    "db.close()"
   ]
  }
 ],
 "metadata": {
  "kernelspec": {
   "display_name": "ai-krs",
   "language": "python",
   "name": "python3"
  },
  "language_info": {
   "codemirror_mode": {
    "name": "ipython",
    "version": 3
   },
   "file_extension": ".py",
   "mimetype": "text/x-python",
   "name": "python",
   "nbconvert_exporter": "python",
   "pygments_lexer": "ipython3",
   "version": "3.10.12"
  },
  "orig_nbformat": 4
 },
 "nbformat": 4,
 "nbformat_minor": 2
}
