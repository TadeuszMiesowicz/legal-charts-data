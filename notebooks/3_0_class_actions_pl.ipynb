{
 "cells": [
  {
   "cell_type": "code",
   "execution_count": null,
   "metadata": {},
   "outputs": [],
   "source": [
    "id = 3\n",
    "topicName = 'class-actions-pl'\n",
    "title = \"\"\"\n",
    "Class actions in Poland 2010-2021\n",
    "\"\"\".replace('\\n',' ').strip()\n",
    "titlePl = \"\"\"\n",
    "Pozwy zbiorowe w Polsce 2010-2021\n",
    "\"\"\".replace('\\n',' ').strip()\n",
    "country = 'Poland'\n",
    "countryPl = 'Polska'\n",
    "startYear = 2010\n",
    "endYear = 2021\n",
    "description=\"\"\"\n",
    "Class action lawsuits in civil, commercial and labor \n",
    "law cases in which claims were brought by \n",
    "a larger number of employees (2010-2021).\n",
    "Data is collected and published by the Polish \n",
    "Ministry of Justice.\n",
    "\"\"\".replace('\\n',' ').strip()\n",
    "descriptionPl=\"\"\"\n",
    "Pozwy zbiorowe w sprawach cywilnych, \n",
    "gospodarczych i sprawy z zakresu prawa pracy, \n",
    "w których z pozwem wystąpiła większa grupa pracowników (2010-2021) - Polska.\n",
    "Dane opublikowane przez polskie Ministerstwo Sprawiedliwości.\n",
    "\"\"\".replace('\\n',' ').strip()\n",
    "sourceName = \"Ministry of Justice (PL)\"\n",
    "sourceNamePl =\"Ministerstwo Sprawiedliwości (PL)\"\n",
    "sourceLink=\"https://isws.ms.gov.pl/pl/baza-statystyczna/opracowania-wieloletnie/\"\n",
    "fileName= \"class-actions-pl\"\n",
    "sourceFileExt = 'xlsx'"
   ]
  },
  {
   "cell_type": "code",
   "execution_count": null,
   "metadata": {},
   "outputs": [],
   "source": [
    "from src.database.insert_topic import insert_topic\n",
    "\n",
    "insert_topic(\n",
    "    id,\n",
    "    topicName,\n",
    "    title,\n",
    "    titlePl,\n",
    "    country,\n",
    "    countryPl,\n",
    "    startYear,\n",
    "    endYear,\n",
    "    description,\n",
    "    descriptionPl,\n",
    "    sourceName,\n",
    "    sourceNamePl,\n",
    "    sourceLink,\n",
    "    fileName,\n",
    "    sourceFileExt\n",
    ")"
   ]
  },
  {
   "cell_type": "code",
   "execution_count": null,
   "metadata": {},
   "outputs": [],
   "source": [
    "import pandas as pd\n",
    "\n",
    "original_data_path = '../data/raw/class-actions-pl/pozwy-zbiorowe-2010-2021.xlsx'\n",
    "\n",
    "df = pd.read_excel(original_data_path, \n",
    "                   skiprows=6)\n",
    "\n",
    "df.head()"
   ]
  },
  {
   "cell_type": "code",
   "execution_count": null,
   "metadata": {},
   "outputs": [],
   "source": [
    "df = df.replace(['.', '–'], 0)"
   ]
  },
  {
   "cell_type": "code",
   "execution_count": null,
   "metadata": {},
   "outputs": [],
   "source": [
    "column_names_descriptions = {\n",
    "    0: ('year', \n",
    "        'year', \n",
    "        'rok'),\n",
    "    1: ('filed', \n",
    "        'court cases filed', \n",
    "        'wpłynęło'),\n",
    "    2: ('settled', \n",
    "        'court cases settled', \n",
    "        'załatwione'),\n",
    "    3: ('rejected', \n",
    "        'court cases rejected', \n",
    "        'odrzucone'),\n",
    "    4: ('denied', \n",
    "        'court cases denied', \n",
    "        'oddalono'),\n",
    "    5: ('returned', \n",
    "        'court cases returned', \n",
    "        'zwrócono'),\n",
    "    6: ('pending', \n",
    "        'court cases pending', \n",
    "        'oczekujące na rozstrzygnięcie')\n",
    "}"
   ]
  },
  {
   "cell_type": "code",
   "execution_count": null,
   "metadata": {},
   "outputs": [],
   "source": [
    "new_column_names = [t[0] for t in column_names_descriptions.values()]"
   ]
  },
  {
   "cell_type": "code",
   "execution_count": null,
   "metadata": {},
   "outputs": [],
   "source": [
    "df_c = df[:12]\n",
    "\n",
    "df_c.columns = new_column_names\n",
    "\n",
    "df_c.isna().any()\n",
    "\n",
    "df_c = df_c.astype(int)\n",
    "\n",
    "df_c"
   ]
  },
  {
   "cell_type": "code",
   "execution_count": null,
   "metadata": {},
   "outputs": [],
   "source": [
    "df_gc = df[18:30]\n",
    "\n",
    "df_gc.columns = new_column_names\n",
    "\n",
    "df_gc.isna().any()\n",
    "\n",
    "df_gc = df_gc.astype(int)\n",
    "\n",
    "df_gc"
   ]
  },
  {
   "cell_type": "code",
   "execution_count": null,
   "metadata": {},
   "outputs": [],
   "source": [
    "df_pr = df.iloc[37:49, 2:5]\n",
    "\n",
    "df_pr.columns = new_column_names[:3]\n",
    "\n",
    "df_pr = df_pr.astype(int)\n",
    "\n",
    "df_pr"
   ]
  },
  {
   "cell_type": "code",
   "execution_count": null,
   "metadata": {},
   "outputs": [],
   "source": [
    "df_po = df.iloc[50:62, 2:5]\n",
    "\n",
    "df_po.columns = new_column_names[:3]\n",
    "\n",
    "df_po = df_po.astype(int)\n",
    "\n",
    "df_po"
   ]
  },
  {
   "cell_type": "code",
   "execution_count": null,
   "metadata": {},
   "outputs": [],
   "source": [
    "dsName = 'classActionsPl'\n",
    "case_types = {\n",
    "    'C': df_c,\n",
    "    'Gc': df_gc,\n",
    "    'Pr': df_pr,\n",
    "    'Po': df_po,\n",
    "}\n",
    "\n",
    "ds_names = {f'{dsName}{x}' for x in case_types}\n",
    "\n",
    "ds_names"
   ]
  },
  {
   "cell_type": "code",
   "execution_count": null,
   "metadata": {},
   "outputs": [],
   "source": [
    "from src.database.connect_db import connect_db\n",
    "\n",
    "db = connect_db()\n",
    "\n",
    "cursor = db.cursor()"
   ]
  },
  {
   "cell_type": "code",
   "execution_count": null,
   "metadata": {},
   "outputs": [],
   "source": [
    "from pandas import DataFrame\n",
    "\n",
    "\n",
    "def createTable(ca_df:DataFrame, tableName:str):\n",
    "    query = f\"CREATE TABLE {tableName} (year INT PRIMARY KEY, \"\n",
    "\n",
    "    for column in ca_df.columns[1:]:\n",
    "        query += f\"{column} INT NOT NULL, \"\n",
    "\n",
    "\n",
    "    query = query[:-2] + \")\"\n",
    "    \n",
    "    try:\n",
    "        cursor.execute(query)\n",
    "    except:\n",
    "        print('table already created')\n",
    "    "
   ]
  },
  {
   "cell_type": "code",
   "execution_count": null,
   "metadata": {},
   "outputs": [],
   "source": [
    "for key, value in case_types.items():\n",
    "    createTable(value, f'{dsName}{key}')\n"
   ]
  },
  {
   "cell_type": "code",
   "execution_count": null,
   "metadata": {},
   "outputs": [],
   "source": [
    "from pandas import DataFrame\n",
    "\n",
    "\n",
    "def insertData(ca_df:DataFrame, tableName:str):\n",
    "    data = [tuple(row) for index, row in ca_df.iterrows()]\n",
    "    \n",
    "    query = f\"\"\"\n",
    "    INSERT INTO {tableName} ({', '.join(ca_df.columns)}) \n",
    "    VALUES ({', '.join(['%s']*len(ca_df.columns))});\n",
    "    \"\"\"\n",
    "\n",
    "    try:\n",
    "        cursor.executemany(query, data)\n",
    "    except:\n",
    "        print('data added already')\n",
    "    "
   ]
  },
  {
   "cell_type": "code",
   "execution_count": null,
   "metadata": {},
   "outputs": [],
   "source": [
    "for key, value in case_types.items():\n",
    "    insertData(value, f'{dsName}{key}')"
   ]
  },
  {
   "cell_type": "code",
   "execution_count": null,
   "metadata": {},
   "outputs": [],
   "source": [
    "cursor.execute(f\"\"\"\n",
    "               SELECT * \n",
    "               FROM classActionsPlC\n",
    "               LIMIT 5\n",
    "               \"\"\")\n",
    "cursor.fetchall()"
   ]
  },
  {
   "cell_type": "code",
   "execution_count": null,
   "metadata": {},
   "outputs": [],
   "source": [
    "from src.database.create_ds_desc_table import create_ds_desc_table\n",
    "\n",
    "\n",
    "create_ds_desc_table(dsName)"
   ]
  },
  {
   "cell_type": "code",
   "execution_count": null,
   "metadata": {},
   "outputs": [],
   "source": [
    "data = [row for row in column_names_descriptions.values()]"
   ]
  },
  {
   "cell_type": "code",
   "execution_count": null,
   "metadata": {},
   "outputs": [],
   "source": [
    "from src.database.insert_into_ds_desc import insert_into_ds_desc\n",
    "\n",
    "\n",
    "insert_into_ds_desc(dsName, data)"
   ]
  },
  {
   "cell_type": "code",
   "execution_count": null,
   "metadata": {},
   "outputs": [],
   "source": [
    "df_desc = pd.DataFrame(data, \n",
    "    columns=['column_name', \n",
    "    'description', \n",
    "    'descriptionPl'])"
   ]
  },
  {
   "cell_type": "code",
   "execution_count": null,
   "metadata": {},
   "outputs": [],
   "source": [
    "df_path_desc =f'../data/processed/{topicName}/{fileName}-desc.csv'"
   ]
  },
  {
   "cell_type": "code",
   "execution_count": null,
   "metadata": {},
   "outputs": [],
   "source": [
    "for key, value in case_types.items():\n",
    "    value.to_csv(f'../data/processed/{topicName}/{fileName}-{key}.csv', index=False)"
   ]
  },
  {
   "cell_type": "code",
   "execution_count": null,
   "metadata": {},
   "outputs": [],
   "source": [
    "df_desc.to_csv(df_path_desc, index=False)"
   ]
  },
  {
   "cell_type": "code",
   "execution_count": null,
   "metadata": {},
   "outputs": [],
   "source": [
    "destination = f\"{topicName}/{fileName}\"\n",
    "destination_desc = f\"{topicName}/{fileName}-desc.csv\"\n",
    "destination_original = f\"{topicName}/{fileName}-source.{sourceFileExt}\""
   ]
  },
  {
   "cell_type": "code",
   "execution_count": null,
   "metadata": {},
   "outputs": [],
   "source": [
    "from src.utils.upload_file_gpc import upload_file\n",
    "from src.utils.zip_folder import zip_folder\n",
    "\n",
    "output_path = f'../data/processed/{topicName}.zip'\n",
    "\n",
    "zip_folder( '../data/processed/class-actions-pl/',output_path)\n",
    "\n",
    "\n",
    "upload_file(output_path,destination)\n",
    "upload_file(df_path_desc,destination_desc)\n",
    "upload_file(original_data_path,destination_original)"
   ]
  }
 ],
 "metadata": {
  "kernelspec": {
   "display_name": "legal-charts-data",
   "language": "python",
   "name": "python3"
  },
  "language_info": {
   "codemirror_mode": {
    "name": "ipython",
    "version": 3
   },
   "file_extension": ".py",
   "mimetype": "text/x-python",
   "name": "python",
   "nbconvert_exporter": "python",
   "pygments_lexer": "ipython3",
   "version": "3.10.12"
  },
  "orig_nbformat": 4
 },
 "nbformat": 4,
 "nbformat_minor": 2
}
