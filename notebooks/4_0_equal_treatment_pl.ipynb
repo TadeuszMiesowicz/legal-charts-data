{
 "cells": [
  {
   "cell_type": "markdown",
   "metadata": {},
   "source": [
    "## Equal treatment in employment cases in Poland 2001-2021\n",
    "\n",
    "### 1. topic description"
   ]
  },
  {
   "cell_type": "code",
   "execution_count": 1,
   "metadata": {},
   "outputs": [],
   "source": [
    "id = 4\n",
    "topicName = 'equal-treatment-pl'\n",
    "title = \"\"\"\n",
    "Equal treatment in employment - court cases in Poland from 2010 to 2021\n",
    "\"\"\".replace('\\n',' ').strip()\n",
    "titlePl = \"\"\"\n",
    "Równe traktowanie w zatrudnieniu - sprawy sądowe w Polsce w latach 2010-2021\n",
    "\"\"\".replace('\\n',' ').strip()\n",
    "country = 'Poland'\n",
    "countryPl = 'Polska'\n",
    "startYear = 2010\n",
    "endYear = 2021\n",
    "description=\"\"\"\n",
    "Records of cases for compensation for violation of the \n",
    "principles of equal treatment in employment \n",
    "in Poland (Article 18 3d of the Labor Code).\n",
    "Data is collected and published by the Polish\n",
    "Ministry of Justice (2010-2021). \n",
    "\"\"\".replace('\\n',' ').strip()\n",
    "descriptionPl=\"\"\"\n",
    "Ewidencja spraw o odszkodowanie z tytułu naruszenia \n",
    "zasad równego traktowania w zatrudnieniu w Polsce (art. 18 3d Kodeksu Pracy).\n",
    "Dane opublikowane przez polskie Ministerstwo Sprawiedliwości (2010-2021).\n",
    "\"\"\".replace('\\n',' ').strip()\n",
    "sourceName = \"Ministry of Justice (PL)\"\n",
    "sourceNamePl =\"Ministerstwo Sprawiedliwości (PL)\"\n",
    "sourceLink=\"https://isws.ms.gov.pl/pl/baza-statystyczna/opracowania-wieloletnie/\"\n",
    "fileName = topicName\n",
    "sourceFileExt = 'xlsx'"
   ]
  },
  {
   "cell_type": "code",
   "execution_count": null,
   "metadata": {},
   "outputs": [],
   "source": [
    "from src.database.insert_topic import insert_topic\n",
    "\n",
    "insert_topic(\n",
    "    id,\n",
    "    topicName,\n",
    "    title,\n",
    "    titlePl,\n",
    "    country,\n",
    "    countryPl,\n",
    "    startYear,\n",
    "    endYear,\n",
    "    description,\n",
    "    descriptionPl,\n",
    "    sourceName,\n",
    "    sourceNamePl,\n",
    "    sourceLink,\n",
    "    fileName,\n",
    "    sourceFileExt\n",
    ")"
   ]
  },
  {
   "cell_type": "markdown",
   "metadata": {},
   "source": [
    "### 2. Columns names & descriptions"
   ]
  },
  {
   "cell_type": "code",
   "execution_count": 3,
   "metadata": {},
   "outputs": [],
   "source": [
    "column_names_descriptions = {\n",
    "\n",
    "    0: ('filed', \n",
    "        'court cases filed', \n",
    "        'wpłynęło'),\n",
    "    1: ('granted', \n",
    "        'court cases granted', \n",
    "        'uwzględniono'),\n",
    "    2: ('denied', \n",
    "        'court cases denied', \n",
    "        'oddalono'),\n",
    "    3: ('returned', \n",
    "        'court cases returned', \n",
    "        'zwrócono'),\n",
    "    4: ('rejected', \n",
    "        'court cases rejected', \n",
    "        'odrzucono'),\n",
    "    5: ('discontinued', \n",
    "        'court cases discontinued', \n",
    "        'discontinued'),\n",
    "    6: ('other', \n",
    "        'other', \n",
    "        'inne załatwienia'),\n",
    "    7: ('pending', \n",
    "        'pending', \n",
    "        'pozostałe na następny okres'),\n",
    "    8: ('year', \n",
    "        'year', \n",
    "        'rok'),\n",
    "    9: ('court', \n",
    "        'couth', \n",
    "        'sąd'),\n",
    "    10: ('sex', \n",
    "        'sex', \n",
    "        'płeć'),\n",
    "    \n",
    "}"
   ]
  },
  {
   "cell_type": "code",
   "execution_count": 4,
   "metadata": {},
   "outputs": [],
   "source": [
    "column_names = [t[0] for t in column_names_descriptions.values()]"
   ]
  },
  {
   "cell_type": "code",
   "execution_count": 5,
   "metadata": {},
   "outputs": [
    {
     "data": {
      "text/html": [
       "<div>\n",
       "<style scoped>\n",
       "    .dataframe tbody tr th:only-of-type {\n",
       "        vertical-align: middle;\n",
       "    }\n",
       "\n",
       "    .dataframe tbody tr th {\n",
       "        vertical-align: top;\n",
       "    }\n",
       "\n",
       "    .dataframe thead th {\n",
       "        text-align: right;\n",
       "    }\n",
       "</style>\n",
       "<table border=\"1\" class=\"dataframe\">\n",
       "  <thead>\n",
       "    <tr style=\"text-align: right;\">\n",
       "      <th></th>\n",
       "      <th>filed</th>\n",
       "      <th>granted</th>\n",
       "      <th>denied</th>\n",
       "      <th>returned</th>\n",
       "      <th>rejected</th>\n",
       "      <th>discontinued</th>\n",
       "      <th>other</th>\n",
       "      <th>pending</th>\n",
       "      <th>year</th>\n",
       "      <th>court</th>\n",
       "      <th>sex</th>\n",
       "    </tr>\n",
       "  </thead>\n",
       "  <tbody>\n",
       "  </tbody>\n",
       "</table>\n",
       "</div>"
      ],
      "text/plain": [
       "Empty DataFrame\n",
       "Columns: [filed, granted, denied, returned, rejected, discontinued, other, pending, year, court, sex]\n",
       "Index: []"
      ]
     },
     "execution_count": 5,
     "metadata": {},
     "output_type": "execute_result"
    }
   ],
   "source": [
    "import pandas as pd\n",
    "\n",
    "df = pd.DataFrame(columns=column_names)\n",
    "\n",
    "\n",
    "df"
   ]
  },
  {
   "cell_type": "code",
   "execution_count": 6,
   "metadata": {},
   "outputs": [],
   "source": [
    "from pandas import DataFrame\n",
    "\n",
    "\n",
    "def add_rows(sheet_name: str, data: DataFrame, court: str):\n",
    "    data.columns = column_names[:8]\n",
    "\n",
    "    data['year'] = [sheet_name,sheet_name]\n",
    "    \n",
    "    data['court'] = [court, court]\n",
    "\n",
    "    data['sex'] = ['female','male']\n",
    "\n",
    "    return data "
   ]
  },
  {
   "cell_type": "code",
   "execution_count": 7,
   "metadata": {},
   "outputs": [],
   "source": [
    "original_data_path = '../data/raw/equal-treatment-pl/equal-treatment-pl-2010-2021.xlsx'\n",
    "\n",
    "xls = pd.ExcelFile(original_data_path)\n",
    "\n",
    "sheet_names = xls.sheet_names\n",
    "\n",
    "for sheet_name in sheet_names:\n",
    "    temp_df = pd.read_excel(original_data_path, skiprows=8, skipfooter=7,sheet_name=sheet_name)\n",
    "    temp_df = temp_df.drop(temp_df.columns[4], axis=1)\n",
    "    district_courts = temp_df.iloc[0:2,3:11]\n",
    "    provincial_courts = temp_df.iloc[10:,3:11]\n",
    "    df = pd.concat([df,add_rows(sheet_name, district_courts, 'district')])\n",
    "    df = pd.concat([df,add_rows(sheet_name, provincial_courts, 'provincial')])\n",
    "\n",
    "df = df.reset_index(drop=True)\n"
   ]
  },
  {
   "cell_type": "code",
   "execution_count": 8,
   "metadata": {},
   "outputs": [
    {
     "data": {
      "text/html": [
       "<div>\n",
       "<style scoped>\n",
       "    .dataframe tbody tr th:only-of-type {\n",
       "        vertical-align: middle;\n",
       "    }\n",
       "\n",
       "    .dataframe tbody tr th {\n",
       "        vertical-align: top;\n",
       "    }\n",
       "\n",
       "    .dataframe thead th {\n",
       "        text-align: right;\n",
       "    }\n",
       "</style>\n",
       "<table border=\"1\" class=\"dataframe\">\n",
       "  <thead>\n",
       "    <tr style=\"text-align: right;\">\n",
       "      <th></th>\n",
       "      <th>filed</th>\n",
       "      <th>granted</th>\n",
       "      <th>denied</th>\n",
       "      <th>returned</th>\n",
       "      <th>rejected</th>\n",
       "      <th>discontinued</th>\n",
       "      <th>other</th>\n",
       "      <th>pending</th>\n",
       "      <th>year</th>\n",
       "      <th>court</th>\n",
       "      <th>sex</th>\n",
       "    </tr>\n",
       "  </thead>\n",
       "  <tbody>\n",
       "    <tr>\n",
       "      <th>0</th>\n",
       "      <td>334.0</td>\n",
       "      <td>19</td>\n",
       "      <td>47.0</td>\n",
       "      <td>8</td>\n",
       "      <td>–</td>\n",
       "      <td>49</td>\n",
       "      <td>65.0</td>\n",
       "      <td>146.0</td>\n",
       "      <td>2011</td>\n",
       "      <td>district</td>\n",
       "      <td>female</td>\n",
       "    </tr>\n",
       "    <tr>\n",
       "      <th>1</th>\n",
       "      <td>508.0</td>\n",
       "      <td>18</td>\n",
       "      <td>34.0</td>\n",
       "      <td>23</td>\n",
       "      <td>2</td>\n",
       "      <td>36</td>\n",
       "      <td>167.0</td>\n",
       "      <td>223.0</td>\n",
       "      <td>2011</td>\n",
       "      <td>district</td>\n",
       "      <td>male</td>\n",
       "    </tr>\n",
       "    <tr>\n",
       "      <th>2</th>\n",
       "      <td>34.0</td>\n",
       "      <td>2</td>\n",
       "      <td>4.0</td>\n",
       "      <td>1</td>\n",
       "      <td>–</td>\n",
       "      <td>3</td>\n",
       "      <td>3.0</td>\n",
       "      <td>21.0</td>\n",
       "      <td>2011</td>\n",
       "      <td>provincial</td>\n",
       "      <td>female</td>\n",
       "    </tr>\n",
       "    <tr>\n",
       "      <th>3</th>\n",
       "      <td>37.0</td>\n",
       "      <td>2</td>\n",
       "      <td>4.0</td>\n",
       "      <td>2</td>\n",
       "      <td>–</td>\n",
       "      <td>2</td>\n",
       "      <td>9.0</td>\n",
       "      <td>17.0</td>\n",
       "      <td>2011</td>\n",
       "      <td>provincial</td>\n",
       "      <td>male</td>\n",
       "    </tr>\n",
       "    <tr>\n",
       "      <th>4</th>\n",
       "      <td>385.0</td>\n",
       "      <td>33</td>\n",
       "      <td>55.0</td>\n",
       "      <td>2</td>\n",
       "      <td>2</td>\n",
       "      <td>32</td>\n",
       "      <td>96</td>\n",
       "      <td>165.0</td>\n",
       "      <td>2012</td>\n",
       "      <td>district</td>\n",
       "      <td>female</td>\n",
       "    </tr>\n",
       "    <tr>\n",
       "      <th>5</th>\n",
       "      <td>487.0</td>\n",
       "      <td>57</td>\n",
       "      <td>38.0</td>\n",
       "      <td>1</td>\n",
       "      <td>2</td>\n",
       "      <td>81</td>\n",
       "      <td>110</td>\n",
       "      <td>198.0</td>\n",
       "      <td>2012</td>\n",
       "      <td>district</td>\n",
       "      <td>male</td>\n",
       "    </tr>\n",
       "    <tr>\n",
       "      <th>6</th>\n",
       "      <td>31.0</td>\n",
       "      <td>2</td>\n",
       "      <td>3.0</td>\n",
       "      <td>–</td>\n",
       "      <td>–</td>\n",
       "      <td>2</td>\n",
       "      <td>2</td>\n",
       "      <td>22.0</td>\n",
       "      <td>2012</td>\n",
       "      <td>provincial</td>\n",
       "      <td>female</td>\n",
       "    </tr>\n",
       "    <tr>\n",
       "      <th>7</th>\n",
       "      <td>30.0</td>\n",
       "      <td>–</td>\n",
       "      <td>5.0</td>\n",
       "      <td>1</td>\n",
       "      <td>–</td>\n",
       "      <td>3</td>\n",
       "      <td>1</td>\n",
       "      <td>20.0</td>\n",
       "      <td>2012</td>\n",
       "      <td>provincial</td>\n",
       "      <td>male</td>\n",
       "    </tr>\n",
       "    <tr>\n",
       "      <th>8</th>\n",
       "      <td>325.0</td>\n",
       "      <td>29</td>\n",
       "      <td>63</td>\n",
       "      <td>1</td>\n",
       "      <td>–</td>\n",
       "      <td>30</td>\n",
       "      <td>30</td>\n",
       "      <td>172.0</td>\n",
       "      <td>2013</td>\n",
       "      <td>district</td>\n",
       "      <td>female</td>\n",
       "    </tr>\n",
       "    <tr>\n",
       "      <th>9</th>\n",
       "      <td>446.0</td>\n",
       "      <td>33</td>\n",
       "      <td>62</td>\n",
       "      <td>3</td>\n",
       "      <td>2</td>\n",
       "      <td>64</td>\n",
       "      <td>70</td>\n",
       "      <td>212.0</td>\n",
       "      <td>2013</td>\n",
       "      <td>district</td>\n",
       "      <td>male</td>\n",
       "    </tr>\n",
       "  </tbody>\n",
       "</table>\n",
       "</div>"
      ],
      "text/plain": [
       "   filed granted denied returned rejected discontinued  other  pending  year  \\\n",
       "0  334.0      19   47.0        8        –           49   65.0    146.0  2011   \n",
       "1  508.0      18   34.0       23        2           36  167.0    223.0  2011   \n",
       "2   34.0       2    4.0        1        –            3    3.0     21.0  2011   \n",
       "3   37.0       2    4.0        2        –            2    9.0     17.0  2011   \n",
       "4  385.0      33   55.0        2        2           32     96    165.0  2012   \n",
       "5  487.0      57   38.0        1        2           81    110    198.0  2012   \n",
       "6   31.0       2    3.0        –        –            2      2     22.0  2012   \n",
       "7   30.0       –    5.0        1        –            3      1     20.0  2012   \n",
       "8  325.0      29     63        1        –           30     30    172.0  2013   \n",
       "9  446.0      33     62        3        2           64     70    212.0  2013   \n",
       "\n",
       "        court     sex  \n",
       "0    district  female  \n",
       "1    district    male  \n",
       "2  provincial  female  \n",
       "3  provincial    male  \n",
       "4    district  female  \n",
       "5    district    male  \n",
       "6  provincial  female  \n",
       "7  provincial    male  \n",
       "8    district  female  \n",
       "9    district    male  "
      ]
     },
     "execution_count": 8,
     "metadata": {},
     "output_type": "execute_result"
    }
   ],
   "source": [
    "df.head(10)"
   ]
  },
  {
   "cell_type": "code",
   "execution_count": 9,
   "metadata": {},
   "outputs": [],
   "source": [
    "df = df.replace(['.', '–'], \"0\")\n",
    "\n",
    "replace_dash_with_zero = lambda x: x.replace('-', '0') if isinstance(x, str) else x\n",
    "\n",
    "df = df.applymap(replace_dash_with_zero)"
   ]
  },
  {
   "cell_type": "code",
   "execution_count": 10,
   "metadata": {},
   "outputs": [
    {
     "data": {
      "text/plain": [
       "filed           False\n",
       "granted         False\n",
       "denied          False\n",
       "returned        False\n",
       "rejected        False\n",
       "discontinued    False\n",
       "other           False\n",
       "pending         False\n",
       "year            False\n",
       "court           False\n",
       "sex             False\n",
       "dtype: bool"
      ]
     },
     "execution_count": 10,
     "metadata": {},
     "output_type": "execute_result"
    }
   ],
   "source": [
    "df.isna().any()"
   ]
  },
  {
   "cell_type": "code",
   "execution_count": 11,
   "metadata": {},
   "outputs": [
    {
     "name": "stdout",
     "output_type": "stream",
     "text": [
      "<class 'pandas.core.frame.DataFrame'>\n",
      "RangeIndex: 44 entries, 0 to 43\n",
      "Data columns (total 11 columns):\n",
      " #   Column        Non-Null Count  Dtype  \n",
      "---  ------        --------------  -----  \n",
      " 0   filed         44 non-null     float64\n",
      " 1   granted       44 non-null     object \n",
      " 2   denied        44 non-null     float64\n",
      " 3   returned      44 non-null     object \n",
      " 4   rejected      44 non-null     object \n",
      " 5   discontinued  44 non-null     object \n",
      " 6   other         44 non-null     float64\n",
      " 7   pending       44 non-null     float64\n",
      " 8   year          44 non-null     object \n",
      " 9   court         44 non-null     object \n",
      " 10  sex           44 non-null     object \n",
      "dtypes: float64(4), object(7)\n",
      "memory usage: 3.9+ KB\n"
     ]
    }
   ],
   "source": [
    "df.info()"
   ]
  },
  {
   "cell_type": "code",
   "execution_count": 12,
   "metadata": {},
   "outputs": [
    {
     "name": "stdout",
     "output_type": "stream",
     "text": [
      "<class 'pandas.core.frame.DataFrame'>\n",
      "RangeIndex: 44 entries, 0 to 43\n",
      "Data columns (total 11 columns):\n",
      " #   Column        Non-Null Count  Dtype \n",
      "---  ------        --------------  ----- \n",
      " 0   filed         44 non-null     int64 \n",
      " 1   granted       44 non-null     int64 \n",
      " 2   denied        44 non-null     int64 \n",
      " 3   returned      44 non-null     int64 \n",
      " 4   rejected      44 non-null     int64 \n",
      " 5   discontinued  44 non-null     int64 \n",
      " 6   other         44 non-null     int64 \n",
      " 7   pending       44 non-null     int64 \n",
      " 8   year          44 non-null     int64 \n",
      " 9   court         44 non-null     object\n",
      " 10  sex           44 non-null     object\n",
      "dtypes: int64(9), object(2)\n",
      "memory usage: 3.9+ KB\n"
     ]
    }
   ],
   "source": [
    "\n",
    "df = df.astype({f\"{x}\":int for x in df.columns[:9]})\n",
    "\n",
    "df.info()"
   ]
  },
  {
   "cell_type": "markdown",
   "metadata": {},
   "source": [
    "### 3. create db tables"
   ]
  },
  {
   "cell_type": "code",
   "execution_count": 13,
   "metadata": {},
   "outputs": [],
   "source": [
    "from src.database.connect_db import connect_db\n",
    "\n",
    "db = connect_db()\n",
    "\n",
    "cursor = db.cursor()"
   ]
  },
  {
   "cell_type": "code",
   "execution_count": 14,
   "metadata": {},
   "outputs": [],
   "source": [
    "MAIN_TABLE_NAME = \"equalTreatmentPl\""
   ]
  },
  {
   "cell_type": "code",
   "execution_count": 15,
   "metadata": {},
   "outputs": [],
   "source": [
    "query = f\"CREATE TABLE {MAIN_TABLE_NAME} (id int NOT NULL AUTO_INCREMENT PRIMARY KEY, \"\n",
    "\n",
    "for column in df.columns[:9]:\n",
    "    query += f\"{column} INT NOT NULL, \"\n",
    "for column in df.columns[9:]:\n",
    "    query += f\"{column} VARCHAR(255) NOT NULL, \"\n",
    "\n",
    "\n",
    "query = query[:-2] + \")\""
   ]
  },
  {
   "cell_type": "code",
   "execution_count": 16,
   "metadata": {},
   "outputs": [
    {
     "name": "stdout",
     "output_type": "stream",
     "text": [
      "table already created\n"
     ]
    }
   ],
   "source": [
    "try:\n",
    "    cursor.execute(query)\n",
    "except:\n",
    "    print('table already created')\n"
   ]
  },
  {
   "cell_type": "code",
   "execution_count": 17,
   "metadata": {},
   "outputs": [],
   "source": [
    "data = [tuple(row) for index, row in df.iterrows()]"
   ]
  },
  {
   "cell_type": "code",
   "execution_count": 18,
   "metadata": {},
   "outputs": [],
   "source": [
    "query = f\"\"\"\n",
    "INSERT INTO {MAIN_TABLE_NAME} ({', '.join(df.columns)}) \n",
    "VALUES ({', '.join(['%s']*len(df.columns))});\n",
    "\"\"\"\n",
    "\n",
    "try:\n",
    "    cursor.executemany(query, data)\n",
    "except:\n",
    "    print('data added already')"
   ]
  },
  {
   "cell_type": "code",
   "execution_count": 19,
   "metadata": {},
   "outputs": [],
   "source": [
    "from pandas import DataFrame\n",
    "\n",
    "\n",
    "def insertData(ca_df:DataFrame, tableName:str):\n",
    "    data = [tuple(row) for index, row in ca_df.iterrows()]\n",
    "    \n",
    "    query = f\"\"\"\n",
    "    INSERT INTO {tableName} ({', '.join(ca_df.columns)}) \n",
    "    VALUES ({', '.join(['%s']*len(ca_df.columns))});\n",
    "    \"\"\"\n",
    "\n",
    "    try:\n",
    "        cursor.executemany(query, data)\n",
    "    except:\n",
    "        print('data added already')\n",
    "    "
   ]
  },
  {
   "cell_type": "code",
   "execution_count": 20,
   "metadata": {},
   "outputs": [
    {
     "data": {
      "text/plain": [
       "((1, 334, 19, 47, 8, 0, 49, 65, 146, 2011, 'district', 'female'),\n",
       " (2, 508, 18, 34, 23, 2, 36, 167, 223, 2011, 'district', 'male'),\n",
       " (3, 34, 2, 4, 1, 0, 3, 3, 21, 2011, 'provincial', 'female'),\n",
       " (4, 37, 2, 4, 2, 0, 2, 9, 17, 2011, 'provincial', 'male'),\n",
       " (5, 385, 33, 55, 2, 2, 32, 96, 165, 2012, 'district', 'female'))"
      ]
     },
     "execution_count": 20,
     "metadata": {},
     "output_type": "execute_result"
    }
   ],
   "source": [
    "cursor.execute(f\"\"\"\n",
    "               SELECT * \n",
    "               FROM {MAIN_TABLE_NAME}\n",
    "               LIMIT 5\n",
    "               \"\"\")\n",
    "cursor.fetchall()"
   ]
  },
  {
   "cell_type": "code",
   "execution_count": null,
   "metadata": {},
   "outputs": [],
   "source": [
    "from src.database.create_ds_desc_table import create_ds_desc_table\n",
    "\n",
    "\n",
    "create_ds_desc_table(MAIN_TABLE_NAME)"
   ]
  },
  {
   "cell_type": "code",
   "execution_count": 22,
   "metadata": {},
   "outputs": [],
   "source": [
    "data = [row for row in column_names_descriptions.values()]"
   ]
  },
  {
   "cell_type": "code",
   "execution_count": null,
   "metadata": {},
   "outputs": [],
   "source": [
    "from src.database.insert_into_ds_desc import insert_into_ds_desc\n",
    "\n",
    "\n",
    "insert_into_ds_desc(MAIN_TABLE_NAME, data)"
   ]
  },
  {
   "cell_type": "markdown",
   "metadata": {},
   "source": [
    "### 4. upload files to GCP storage"
   ]
  },
  {
   "cell_type": "code",
   "execution_count": 24,
   "metadata": {},
   "outputs": [],
   "source": [
    "df_desc = pd.DataFrame(data, \n",
    "    columns=['column_name', \n",
    "    'description', \n",
    "    'descriptionPl'])"
   ]
  },
  {
   "cell_type": "code",
   "execution_count": 25,
   "metadata": {},
   "outputs": [],
   "source": [
    "df_path = f'../data/processed/{topicName}/{fileName}.csv'\n",
    "df_path_desc =f'../data/processed/{topicName}/{fileName}-desc.csv'"
   ]
  },
  {
   "cell_type": "code",
   "execution_count": 26,
   "metadata": {},
   "outputs": [],
   "source": [
    "df.to_csv(df_path, index=False)\n",
    "df_desc.to_csv(df_path_desc, index=False)"
   ]
  },
  {
   "cell_type": "code",
   "execution_count": 27,
   "metadata": {},
   "outputs": [],
   "source": [
    "destination = f\"{topicName}/{fileName}.csv\"\n",
    "destination_desc = f\"{topicName}/{fileName}-desc.csv\"\n",
    "destination_original = f\"{topicName}/{fileName}-source.{sourceFileExt}\""
   ]
  },
  {
   "cell_type": "code",
   "execution_count": 28,
   "metadata": {},
   "outputs": [
    {
     "name": "stdout",
     "output_type": "stream",
     "text": [
      "File ../data/processed/equal-treatment-pl/equal-treatment-pl.csv uploaded to legal-charts-datasets/equal-treatment-pl/equal-treatment-pl.csv.\n",
      "File ../data/processed/equal-treatment-pl/equal-treatment-pl.csv uploaded to legal-charts-datasets/equal-treatment-pl/equal-treatment-pl-desc.csv.\n",
      "File ../data/raw/equal-treatment-pl/equal-treatment-pl-2010-2021.xlsx uploaded to legal-charts-datasets/equal-treatment-pl/equal-treatment-pl-source.xlsx.\n"
     ]
    }
   ],
   "source": [
    "from src.utils.upload_file_gpc import upload_file\n",
    "\n",
    "upload_file(df_path,destination)\n",
    "upload_file(df_path,destination_desc)\n",
    "upload_file(original_data_path,destination_original)"
   ]
  }
 ],
 "metadata": {
  "kernelspec": {
   "display_name": "legal-charts-data",
   "language": "python",
   "name": "python3"
  },
  "language_info": {
   "codemirror_mode": {
    "name": "ipython",
    "version": 3
   },
   "file_extension": ".py",
   "mimetype": "text/x-python",
   "name": "python",
   "nbconvert_exporter": "python",
   "pygments_lexer": "ipython3",
   "version": "3.10.12"
  },
  "orig_nbformat": 4
 },
 "nbformat": 4,
 "nbformat_minor": 2
}
